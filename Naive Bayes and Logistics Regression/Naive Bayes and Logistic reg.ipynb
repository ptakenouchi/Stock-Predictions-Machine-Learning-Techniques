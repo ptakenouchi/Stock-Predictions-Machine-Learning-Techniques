{
 "cells": [
  {
   "cell_type": "code",
   "execution_count": 1,
   "metadata": {},
   "outputs": [],
   "source": [
    "import yfinance as yf"
   ]
  },
  {
   "cell_type": "code",
   "execution_count": 2,
   "metadata": {},
   "outputs": [
    {
     "name": "stdout",
     "output_type": "stream",
     "text": [
      "Populating the interactive namespace from numpy and matplotlib\n"
     ]
    }
   ],
   "source": [
    "%pylab inline"
   ]
  },
  {
   "cell_type": "code",
   "execution_count": 3,
   "metadata": {},
   "outputs": [
    {
     "name": "stdout",
     "output_type": "stream",
     "text": [
      "[*********************100%***********************]  1 of 1 completed\n"
     ]
    }
   ],
   "source": [
    "from pandas_datareader import data as pdr\n",
    "import yfinance as yf\n",
    "yf.pdr_override()\n",
    "\n",
    "data = pdr.get_data_yahoo(\"AAPL\", start=\"2013-01-01\", end=\"2020-01-01\")\n"
   ]
  },
  {
   "cell_type": "code",
   "execution_count": 4,
   "metadata": {},
   "outputs": [],
   "source": [
    "data=data.drop(['Adj Close','Volume'], axis=1)\n"
   ]
  },
  {
   "cell_type": "code",
   "execution_count": 5,
   "metadata": {},
   "outputs": [],
   "source": [
    "def momentum(df):\n",
    "    n = len(df)\n",
    "    arr = []\n",
    "    for i in range(0,5):\n",
    "        arr.append('N')\n",
    "    for j in range(5,n):\n",
    "        momentum = df.Close[j] - df.Close[j-5] #Equation for momentum\n",
    "        arr.append(momentum)\n",
    "    return arr\n",
    "\n",
    "momentum = momentum(data)\n",
    "\n",
    "data['Momentum'] = momentum"
   ]
  },
  {
   "cell_type": "code",
   "execution_count": 6,
   "metadata": {},
   "outputs": [],
   "source": [
    "data_pctchange=data.Close.pct_change()\n",
    "data['Return'] = data_pctchange"
   ]
  },
  {
   "cell_type": "code",
   "execution_count": 7,
   "metadata": {},
   "outputs": [],
   "source": [
    "def ROI(df,n):\n",
    "    m = len(df)\n",
    "    arr = []\n",
    "    for i in range(0,n):\n",
    "        arr.append('N')\n",
    "    for j in range(n,m):\n",
    "        roi= (df.Close[j] - df.Close[j-n])/df.Close[j-n] \n",
    "        arr.append(roi)\n",
    "    return arr\n",
    "\n",
    "\n",
    "ROI10=ROI(data,10)\n",
    "ROI20=ROI(data,20)\n",
    "ROI30=ROI(data,30)\n",
    "\n",
    "data['10 Day ROI']=ROI10\n",
    "data['20 Day ROI']=ROI20\n",
    "data['30 Day ROI']=ROI30"
   ]
  },
  {
   "cell_type": "code",
   "execution_count": 8,
   "metadata": {},
   "outputs": [],
   "source": [
    "\n",
    "def RSI(df,period):\n",
    "    n = len(df)\n",
    "    arr = []\n",
    "    for i in range(0,period):\n",
    "        arr.append('N')\n",
    "    for j in range(period,n):\n",
    "        total_upwards = 0\n",
    "        total_downwards = 0\n",
    "       \n",
    "        for k in range(j,j-period,-1):\n",
    "            if(df.Close[k-1] > df.Close[k]):\n",
    "                total_downwards = total_downwards + (df.Close[k-1] - df.Close[k])    \n",
    "        avg_down = total_downwards / period\n",
    "        for l in range(j,j-period,-1):\n",
    "            if(df.Close[l] > df.Close[l-1]):\n",
    "                total_upwards = total_upwards + (df.Close[l] - df.Close[l-1])\n",
    "        avg_up = total_upwards / period\n",
    "        RS = avg_up / avg_down\n",
    "        RSI  = 100 - (100/(1+RS))\n",
    "        arr.append(RSI)\n",
    "    return arr\n",
    "\n",
    "RSI_14 = RSI(data,14)\n",
    "RSI_10 = RSI(data,10)\n",
    "RSI_30 = RSI(data,30)\n",
    "\n",
    "data['10_day_RSI'] = RSI_10\n",
    "data['14_day_RSI'] = RSI_14\n",
    "data['30_day_RSI'] = RSI_30"
   ]
  },
  {
   "cell_type": "code",
   "execution_count": 9,
   "metadata": {},
   "outputs": [],
   "source": [
    "def EMA(df, n):\n",
    "    m = len(df)\n",
    "    arr = []\n",
    "    arr.append('N')\n",
    "    prevEMA = df.Close[0]\n",
    "    for i in range(1,m):\n",
    "        close = df.Close[i]\n",
    "        EMA = ((2/(n+1))*close) + ((1-(2/(n+1)))*prevEMA)\n",
    "        arr.append(EMA)\n",
    "        prevEMA = EMA\n",
    "    return arr\n",
    "\n",
    "EMA_12 = EMA(data, 12)\n",
    "EMA_26 = EMA(data, 26)\n",
    "\n",
    "data['EMA_12'] = EMA_12\n",
    "data['EMA_26'] = EMA_26"
   ]
  },
  {
   "cell_type": "code",
   "execution_count": 10,
   "metadata": {},
   "outputs": [],
   "source": [
    "\n",
    "def clas(df):\n",
    "    n = len(df)\n",
    "    arr = []\n",
    "    for i in range(0,len(df)-1):\n",
    "        if (100*((df.Close[i+1]-df.Open[i+1])/df.Open[i+1]))>=.3:\n",
    "            arr.append(1)\n",
    "        else:\n",
    "            arr.append(0)\n",
    "    arr.append('N')\n",
    "    return arr\n",
    "\n",
    "clas=clas(data)\n",
    "\n",
    "data['Class'] = clas"
   ]
  },
  {
   "cell_type": "code",
   "execution_count": 11,
   "metadata": {},
   "outputs": [],
   "source": [
    "def MACD(df):\n",
    "    n = 12\n",
    "    m2 = 26\n",
    "    arr = []\n",
    "    arr.append('N')\n",
    "    ema_12 = EMA(df,n)\n",
    "    ema_26 = EMA(df,m2)\n",
    "    m = len(df)\n",
    "    for i in range(1,m):\n",
    "        arr.append(ema_12[i] - ema_26[i])\n",
    "    return arr\n",
    "\n",
    "MACD = MACD(data)\n",
    "\n",
    "data['MACD_12_26'] = MACD"
   ]
  },
  {
   "cell_type": "code",
   "execution_count": 12,
   "metadata": {},
   "outputs": [],
   "source": [
    "\n",
    "def SRSI(df,n):\n",
    "    m = len(df)\n",
    "    arr = []\n",
    "    list_RSI = RSI(df,n)\n",
    "    for i in range(0,n):\n",
    "        arr.append('N')\n",
    "    for j in range(n,n+n):\n",
    "        last_n = list_RSI[n:j]\n",
    "        if(not(last_n == []) and not(max(last_n) == min(last_n))):\n",
    "            SRSI = (list_RSI[j] - min(last_n)) / (max(last_n)- min(last_n))\n",
    "            if SRSI > 1:\n",
    "                arr.append(1)\n",
    "            else:\n",
    "                arr.append(SRSI)\n",
    "        else:\n",
    "            arr.append(0)\n",
    "    for j in range(n+n,m):\n",
    "        last_n = list_RSI[2*n:j]\n",
    "        if(not(last_n == []) and not(max(last_n) == min(last_n))):\n",
    "            SRSI = (list_RSI[j] - min(last_n)) / (max(last_n)- min(last_n))\n",
    "            if SRSI > 1:\n",
    "                arr.append(1)\n",
    "            else:\n",
    "                arr.append(SRSI)\n",
    "        else:\n",
    "            arr.append(0)\n",
    "    return arr\n",
    "\n",
    "SRSI_10 = SRSI(data,10)\n",
    "SRSI_14 = SRSI(data,14)\n",
    "SRSI_30 = SRSI(data,30)\n",
    "\n",
    "data['SRSI_10'] = SRSI_10\n",
    "data['SRSI_14'] = SRSI_14\n",
    "data['SRSI_30'] = SRSI_30"
   ]
  },
  {
   "cell_type": "code",
   "execution_count": 13,
   "metadata": {},
   "outputs": [],
   "source": [
    "\n",
    "def Williams(df,n):\n",
    "    m = len(df)\n",
    "    arr = []\n",
    "    for i in range(0,n-1):\n",
    "        arr.append('N')\n",
    "    for j in range(n-1,m):\n",
    "        maximum = max(data.High[(j-n+1):j+1])\n",
    "        minimum = min(data.Low[(j-n+1):j+1])\n",
    "        val = (-100)*(maximum-df.Close[j])/(maximum-minimum)\n",
    "        arr.append(val)\n",
    "    return arr\n",
    "\n",
    "\n",
    "williams = Williams(data,14)\n",
    "\n",
    "data['Williams'] = williams"
   ]
  },
  {
   "cell_type": "code",
   "execution_count": 14,
   "metadata": {},
   "outputs": [],
   "source": [
    "\n",
    "def TR(df,n):\n",
    "    high = df.High[n]\n",
    "    low = df.Low[n]\n",
    "    close = df.Close[n-1]\n",
    "    l_max = list()\n",
    "    l_max.append(high)\n",
    "    l_max.append(close)\n",
    "    l_min = list()\n",
    "    l_min.append(low)\n",
    "    l_min.append(close)\n",
    "    return (max(l_max) - min(l_min))\n",
    "\n",
    "def ATR(df,n):\n",
    "    m = len(df)\n",
    "    arr = []\n",
    "    prevEMA = TR(df,n+1)\n",
    "    for i in range(0,n):\n",
    "        arr.append('N')\n",
    "    for j in range(n,m):\n",
    "        TR_ = TR(df,j)\n",
    "        EMA = ((2/(n+1))*TR_) + ((1-(2/(n+1)))*prevEMA)\n",
    "        arr.append(EMA)\n",
    "        prevEMA = EMA\n",
    "    return arr\n",
    "\n",
    "ATR = ATR(data,14)  \n",
    "\n",
    "data['ATR_14'] = ATR"
   ]
  },
  {
   "cell_type": "code",
   "execution_count": 15,
   "metadata": {},
   "outputs": [],
   "source": [
    "\n",
    "import numpy as np\n",
    "def CCI(df,n):\n",
    "    m = len(df)\n",
    "    arr = []\n",
    "    tparr = []\n",
    "    for i in range(0,n-1):\n",
    "        arr.append('N')\n",
    "        tp = (df.High[i]+df.Low[i]+df.Close[i])/3\n",
    "        tparr.append(tp)\n",
    "    for j in range(n-1,m):\n",
    "        tp = (df.High[j]+df.Low[j]+df.Close[j])/3\n",
    "        tparr.append(tp) \n",
    "        tps = np.array(tparr[(j-n+1):(j+1)])\n",
    "        val = (tp-tps.mean())/(0.015*tps.std())\n",
    "        arr.append(val)\n",
    "    return arr\n",
    "\n",
    "cci = CCI(data,20) \n",
    "\n",
    "data['CCI'] = cci"
   ]
  },
  {
   "cell_type": "code",
   "execution_count": 16,
   "metadata": {},
   "outputs": [
    {
     "data": {
      "text/plain": [
       "(1762, 22)"
      ]
     },
     "execution_count": 16,
     "metadata": {},
     "output_type": "execute_result"
    }
   ],
   "source": [
    "data.shape"
   ]
  },
  {
   "cell_type": "code",
   "execution_count": 17,
   "metadata": {},
   "outputs": [],
   "source": [
    "def normalize(df):\n",
    "    for column in df:\n",
    "        df[column]=((df[column]-df[column].mean())/df[column].std())"
   ]
  },
  {
   "cell_type": "code",
   "execution_count": 18,
   "metadata": {},
   "outputs": [],
   "source": [
    "#Naive Bayes\n",
    "def positivevalues(df):\n",
    "    for column in df:\n",
    "        if (df[column].min())<0:\n",
    "            df[column]=(df[column]-df[column].min())"
   ]
  },
  {
   "cell_type": "code",
   "execution_count": 19,
   "metadata": {},
   "outputs": [
    {
     "data": {
      "text/html": [
       "<div>\n",
       "<style scoped>\n",
       "    .dataframe tbody tr th:only-of-type {\n",
       "        vertical-align: middle;\n",
       "    }\n",
       "\n",
       "    .dataframe tbody tr th {\n",
       "        vertical-align: top;\n",
       "    }\n",
       "\n",
       "    .dataframe thead th {\n",
       "        text-align: right;\n",
       "    }\n",
       "</style>\n",
       "<table border=\"1\" class=\"dataframe\">\n",
       "  <thead>\n",
       "    <tr style=\"text-align: right;\">\n",
       "      <th></th>\n",
       "      <th>Open</th>\n",
       "      <th>Close</th>\n",
       "      <th>Momentum</th>\n",
       "      <th>Return</th>\n",
       "      <th>10 Day ROI</th>\n",
       "      <th>20 Day ROI</th>\n",
       "      <th>30 Day ROI</th>\n",
       "      <th>10_day_RSI</th>\n",
       "      <th>14_day_RSI</th>\n",
       "      <th>30_day_RSI</th>\n",
       "      <th>EMA_12</th>\n",
       "      <th>EMA_26</th>\n",
       "      <th>MACD_12_26</th>\n",
       "      <th>SRSI_10</th>\n",
       "      <th>SRSI_14</th>\n",
       "      <th>SRSI_30</th>\n",
       "      <th>Williams</th>\n",
       "      <th>ATR_14</th>\n",
       "      <th>CCI</th>\n",
       "    </tr>\n",
       "    <tr>\n",
       "      <th>Date</th>\n",
       "      <th></th>\n",
       "      <th></th>\n",
       "      <th></th>\n",
       "      <th></th>\n",
       "      <th></th>\n",
       "      <th></th>\n",
       "      <th></th>\n",
       "      <th></th>\n",
       "      <th></th>\n",
       "      <th></th>\n",
       "      <th></th>\n",
       "      <th></th>\n",
       "      <th></th>\n",
       "      <th></th>\n",
       "      <th></th>\n",
       "      <th></th>\n",
       "      <th></th>\n",
       "      <th></th>\n",
       "      <th></th>\n",
       "    </tr>\n",
       "  </thead>\n",
       "  <tbody>\n",
       "    <tr>\n",
       "      <th>2013-02-14</th>\n",
       "      <td>66.360001</td>\n",
       "      <td>66.655716</td>\n",
       "      <td>-0.232857</td>\n",
       "      <td>-0.000899</td>\n",
       "      <td>0.0243694</td>\n",
       "      <td>-0.0780493</td>\n",
       "      <td>-0.150156</td>\n",
       "      <td>58.5254</td>\n",
       "      <td>65.4805</td>\n",
       "      <td>35.248</td>\n",
       "      <td>66.8549</td>\n",
       "      <td>68.5803</td>\n",
       "      <td>-1.7254</td>\n",
       "      <td>0.649717</td>\n",
       "      <td>1</td>\n",
       "      <td>0</td>\n",
       "      <td>-37.3879</td>\n",
       "      <td>2.46554</td>\n",
       "      <td>-4.25178</td>\n",
       "    </tr>\n",
       "    <tr>\n",
       "      <th>2013-02-15</th>\n",
       "      <td>66.978569</td>\n",
       "      <td>65.737144</td>\n",
       "      <td>-2.11714</td>\n",
       "      <td>-0.013781</td>\n",
       "      <td>0.0144174</td>\n",
       "      <td>-0.0845866</td>\n",
       "      <td>-0.151153</td>\n",
       "      <td>54.6942</td>\n",
       "      <td>56.2417</td>\n",
       "      <td>35.3112</td>\n",
       "      <td>66.683</td>\n",
       "      <td>68.3697</td>\n",
       "      <td>-1.68676</td>\n",
       "      <td>0.572106</td>\n",
       "      <td>0.691756</td>\n",
       "      <td>0</td>\n",
       "      <td>-57.7084</td>\n",
       "      <td>2.33185</td>\n",
       "      <td>-11.5883</td>\n",
       "    </tr>\n",
       "    <tr>\n",
       "      <th>2013-02-19</th>\n",
       "      <td>65.871429</td>\n",
       "      <td>65.712860</td>\n",
       "      <td>-2.84857</td>\n",
       "      <td>-0.000369</td>\n",
       "      <td>0.0399485</td>\n",
       "      <td>-0.08002</td>\n",
       "      <td>-0.127154</td>\n",
       "      <td>65.0948</td>\n",
       "      <td>51.1547</td>\n",
       "      <td>37.3082</td>\n",
       "      <td>66.5337</td>\n",
       "      <td>68.1729</td>\n",
       "      <td>-1.6392</td>\n",
       "      <td>0.782802</td>\n",
       "      <td>0.522032</td>\n",
       "      <td>1</td>\n",
       "      <td>-58.1043</td>\n",
       "      <td>2.19008</td>\n",
       "      <td>-22.6204</td>\n",
       "    </tr>\n",
       "    <tr>\n",
       "      <th>2013-02-20</th>\n",
       "      <td>65.384285</td>\n",
       "      <td>64.121429</td>\n",
       "      <td>-2.72143</td>\n",
       "      <td>-0.024218</td>\n",
       "      <td>-0.0196357</td>\n",
       "      <td>-0.110783</td>\n",
       "      <td>-0.143253</td>\n",
       "      <td>41.699</td>\n",
       "      <td>45.2602</td>\n",
       "      <td>36.2056</td>\n",
       "      <td>66.1626</td>\n",
       "      <td>67.8728</td>\n",
       "      <td>-1.71021</td>\n",
       "      <td>0.308848</td>\n",
       "      <td>0.325366</td>\n",
       "      <td>0.46478</td>\n",
       "      <td>-84.0475</td>\n",
       "      <td>2.11121</td>\n",
       "      <td>-46.817</td>\n",
       "    </tr>\n",
       "    <tr>\n",
       "      <th>2013-02-21</th>\n",
       "      <td>63.714287</td>\n",
       "      <td>63.722858</td>\n",
       "      <td>-2.99286</td>\n",
       "      <td>-0.006216</td>\n",
       "      <td>-0.0246857</td>\n",
       "      <td>-0.132196</td>\n",
       "      <td>-0.150863</td>\n",
       "      <td>40</td>\n",
       "      <td>44.4938</td>\n",
       "      <td>35.5071</td>\n",
       "      <td>65.7872</td>\n",
       "      <td>67.5654</td>\n",
       "      <td>-1.77815</td>\n",
       "      <td>0.27443</td>\n",
       "      <td>0.299796</td>\n",
       "      <td>0.12576</td>\n",
       "      <td>-90.5449</td>\n",
       "      <td>1.95067</td>\n",
       "      <td>-87.7944</td>\n",
       "    </tr>\n",
       "  </tbody>\n",
       "</table>\n",
       "</div>"
      ],
      "text/plain": [
       "                 Open      Close  Momentum    Return 10 Day ROI 20 Day ROI  \\\n",
       "Date                                                                         \n",
       "2013-02-14  66.360001  66.655716 -0.232857 -0.000899  0.0243694 -0.0780493   \n",
       "2013-02-15  66.978569  65.737144  -2.11714 -0.013781  0.0144174 -0.0845866   \n",
       "2013-02-19  65.871429  65.712860  -2.84857 -0.000369  0.0399485   -0.08002   \n",
       "2013-02-20  65.384285  64.121429  -2.72143 -0.024218 -0.0196357  -0.110783   \n",
       "2013-02-21  63.714287  63.722858  -2.99286 -0.006216 -0.0246857  -0.132196   \n",
       "\n",
       "           30 Day ROI 10_day_RSI 14_day_RSI 30_day_RSI   EMA_12   EMA_26  \\\n",
       "Date                                                                       \n",
       "2013-02-14  -0.150156    58.5254    65.4805     35.248  66.8549  68.5803   \n",
       "2013-02-15  -0.151153    54.6942    56.2417    35.3112   66.683  68.3697   \n",
       "2013-02-19  -0.127154    65.0948    51.1547    37.3082  66.5337  68.1729   \n",
       "2013-02-20  -0.143253     41.699    45.2602    36.2056  66.1626  67.8728   \n",
       "2013-02-21  -0.150863         40    44.4938    35.5071  65.7872  67.5654   \n",
       "\n",
       "           MACD_12_26   SRSI_10   SRSI_14  SRSI_30 Williams   ATR_14      CCI  \n",
       "Date                                                                           \n",
       "2013-02-14    -1.7254  0.649717         1        0 -37.3879  2.46554 -4.25178  \n",
       "2013-02-15   -1.68676  0.572106  0.691756        0 -57.7084  2.33185 -11.5883  \n",
       "2013-02-19    -1.6392  0.782802  0.522032        1 -58.1043  2.19008 -22.6204  \n",
       "2013-02-20   -1.71021  0.308848  0.325366  0.46478 -84.0475  2.11121  -46.817  \n",
       "2013-02-21   -1.77815   0.27443  0.299796  0.12576 -90.5449  1.95067 -87.7944  "
      ]
     },
     "execution_count": 19,
     "metadata": {},
     "output_type": "execute_result"
    }
   ],
   "source": [
    "#Cleaning data:\n",
    "newdata=data.drop(data.index[0:30])\n",
    "\n",
    "newdata=newdata.drop(newdata.index[-1])\n",
    "\n",
    "newdata=newdata.drop(['High','Low'], axis=1)\n",
    "\n",
    "newdata=newdata.drop(['Class'], axis=1)\n",
    "\n",
    "newdata.head()"
   ]
  },
  {
   "cell_type": "code",
   "execution_count": 20,
   "metadata": {},
   "outputs": [],
   "source": [
    "#Normalize data\n",
    "normalize(newdata)"
   ]
  },
  {
   "cell_type": "code",
   "execution_count": 21,
   "metadata": {},
   "outputs": [],
   "source": [
    "X=newdata\n",
    "y=clas[30:-1]"
   ]
  },
  {
   "cell_type": "code",
   "execution_count": 22,
   "metadata": {},
   "outputs": [],
   "source": [
    "#Split test and train 70%/30%\n",
    "X_train=X.drop(X.index[1211:])\n",
    "X_test=X.drop(X.index[0:1211])\n",
    "y_train=y[0:1211]\n",
    "y_test=y[1211:]"
   ]
  },
  {
   "cell_type": "code",
   "execution_count": 23,
   "metadata": {},
   "outputs": [
    {
     "data": {
      "text/plain": [
       "LogisticRegression(C=1.0, class_weight=None, dual=False, fit_intercept=True,\n",
       "                   intercept_scaling=1, l1_ratio=None, max_iter=100,\n",
       "                   multi_class='auto', n_jobs=None, penalty='l2',\n",
       "                   random_state=None, solver='lbfgs', tol=0.0001, verbose=0,\n",
       "                   warm_start=False)"
      ]
     },
     "execution_count": 23,
     "metadata": {},
     "output_type": "execute_result"
    }
   ],
   "source": [
    "#Logistic Regression and run a fit to train the model\n",
    "from sklearn.linear_model import LogisticRegression\n",
    "LR=LogisticRegression()\n",
    "LR.fit(X_train,y_train)"
   ]
  },
  {
   "cell_type": "code",
   "execution_count": 24,
   "metadata": {},
   "outputs": [],
   "source": [
    "#Predict the y test \n",
    "y_pred_LR=LR.predict(X_test)"
   ]
  },
  {
   "cell_type": "code",
   "execution_count": 25,
   "metadata": {},
   "outputs": [
    {
     "name": "stdout",
     "output_type": "stream",
     "text": [
      "0.5461538461538461\n"
     ]
    }
   ],
   "source": [
    "#accuracy score predicted y\n",
    "from sklearn import metrics\n",
    "print (metrics.accuracy_score(y_test, y_pred_LR)) "
   ]
  },
  {
   "cell_type": "code",
   "execution_count": 26,
   "metadata": {},
   "outputs": [
    {
     "data": {
      "text/plain": [
       "GaussianNB(priors=None, var_smoothing=1e-09)"
      ]
     },
     "execution_count": 26,
     "metadata": {},
     "output_type": "execute_result"
    }
   ],
   "source": [
    "#Naive Bayes and run a fit to train the model\n",
    "from sklearn.naive_bayes import GaussianNB\n",
    "\n",
    "GNB = GaussianNB()\n",
    "GNB.fit(X_train,y_train)"
   ]
  },
  {
   "cell_type": "code",
   "execution_count": 27,
   "metadata": {},
   "outputs": [],
   "source": [
    "#Predict the y test\n",
    "y_pred=GNB.predict(X_test)"
   ]
  },
  {
   "cell_type": "code",
   "execution_count": 28,
   "metadata": {},
   "outputs": [
    {
     "name": "stdout",
     "output_type": "stream",
     "text": [
      "0.5173076923076924\n"
     ]
    }
   ],
   "source": [
    "#accuracy score of predicted y\n",
    "from sklearn import metrics\n",
    "print (metrics.accuracy_score(y_test, y_pred)) "
   ]
  },
  {
   "cell_type": "code",
   "execution_count": 31,
   "metadata": {
    "scrolled": true
   },
   "outputs": [
    {
     "name": "stdout",
     "output_type": "stream",
     "text": [
      "Requirement already satisfied: pyfolio in c:\\users\\pedro takenouchi\\anaconda3\\lib\\site-packages (0.9.2)\n",
      "Requirement already satisfied: matplotlib>=1.4.0 in c:\\users\\pedro takenouchi\\anaconda3\\lib\\site-packages (from pyfolio) (3.1.1)\n",
      "Requirement already satisfied: scipy>=0.14.0 in c:\\users\\pedro takenouchi\\anaconda3\\lib\\site-packages (from pyfolio) (1.4.1)\n",
      "Requirement already satisfied: pandas>=0.18.1 in c:\\users\\pedro takenouchi\\anaconda3\\lib\\site-packages (from pyfolio) (0.25.3)\n",
      "Requirement already satisfied: seaborn>=0.7.1 in c:\\users\\pedro takenouchi\\anaconda3\\lib\\site-packages (from pyfolio) (0.9.0)\n",
      "Requirement already satisfied: empyrical>=0.5.0 in c:\\users\\pedro takenouchi\\anaconda3\\lib\\site-packages (from pyfolio) (0.5.3)\n",
      "Requirement already satisfied: scikit-learn>=0.16.1 in c:\\users\\pedro takenouchi\\anaconda3\\lib\\site-packages (from pyfolio) (0.22.1)\n",
      "Requirement already satisfied: numpy>=1.11.1 in c:\\users\\pedro takenouchi\\anaconda3\\lib\\site-packages (from pyfolio) (1.18.0)\n",
      "Requirement already satisfied: ipython>=3.2.3 in c:\\users\\pedro takenouchi\\anaconda3\\lib\\site-packages (from pyfolio) (7.11.1)\n",
      "Requirement already satisfied: pytz>=2014.10 in c:\\users\\pedro takenouchi\\anaconda3\\lib\\site-packages (from pyfolio) (2019.3)\n",
      "Requirement already satisfied: cycler>=0.10 in c:\\users\\pedro takenouchi\\anaconda3\\lib\\site-packages (from matplotlib>=1.4.0->pyfolio) (0.10.0)\n",
      "Requirement already satisfied: kiwisolver>=1.0.1 in c:\\users\\pedro takenouchi\\anaconda3\\lib\\site-packages (from matplotlib>=1.4.0->pyfolio) (1.1.0)\n",
      "Requirement already satisfied: pyparsing!=2.0.4,!=2.1.2,!=2.1.6,>=2.0.1 in c:\\users\\pedro takenouchi\\anaconda3\\lib\\site-packages (from matplotlib>=1.4.0->pyfolio) (2.4.6)\n",
      "Requirement already satisfied: python-dateutil>=2.1 in c:\\users\\pedro takenouchi\\anaconda3\\lib\\site-packages (from matplotlib>=1.4.0->pyfolio) (2.8.1)\n",
      "Requirement already satisfied: pandas-datareader>=0.2 in c:\\users\\pedro takenouchi\\anaconda3\\lib\\site-packages (from empyrical>=0.5.0->pyfolio) (0.8.1)\n",
      "Requirement already satisfied: joblib>=0.11 in c:\\users\\pedro takenouchi\\anaconda3\\lib\\site-packages (from scikit-learn>=0.16.1->pyfolio) (0.14.1)\n",
      "Requirement already satisfied: decorator in c:\\users\\pedro takenouchi\\anaconda3\\lib\\site-packages (from ipython>=3.2.3->pyfolio) (4.4.1)\n",
      "Requirement already satisfied: traitlets>=4.2 in c:\\users\\pedro takenouchi\\anaconda3\\lib\\site-packages (from ipython>=3.2.3->pyfolio) (4.3.3)\n",
      "Requirement already satisfied: colorama; sys_platform == \"win32\" in c:\\users\\pedro takenouchi\\anaconda3\\lib\\site-packages (from ipython>=3.2.3->pyfolio) (0.4.3)\n",
      "Requirement already satisfied: backcall in c:\\users\\pedro takenouchi\\anaconda3\\lib\\site-packages (from ipython>=3.2.3->pyfolio) (0.1.0)\n",
      "Requirement already satisfied: pickleshare in c:\\users\\pedro takenouchi\\anaconda3\\lib\\site-packages (from ipython>=3.2.3->pyfolio) (0.7.5)\n",
      "Requirement already satisfied: pygments in c:\\users\\pedro takenouchi\\anaconda3\\lib\\site-packages (from ipython>=3.2.3->pyfolio) (2.5.2)\n",
      "Requirement already satisfied: setuptools>=18.5 in c:\\users\\pedro takenouchi\\anaconda3\\lib\\site-packages (from ipython>=3.2.3->pyfolio) (44.0.0.post20200106)\n",
      "Requirement already satisfied: jedi>=0.10 in c:\\users\\pedro takenouchi\\anaconda3\\lib\\site-packages (from ipython>=3.2.3->pyfolio) (0.15.2)\n",
      "Requirement already satisfied: prompt-toolkit!=3.0.0,!=3.0.1,<3.1.0,>=2.0.0 in c:\\users\\pedro takenouchi\\anaconda3\\lib\\site-packages (from ipython>=3.2.3->pyfolio) (3.0.2)\n",
      "Requirement already satisfied: six in c:\\users\\pedro takenouchi\\anaconda3\\lib\\site-packages (from cycler>=0.10->matplotlib>=1.4.0->pyfolio) (1.13.0)\n",
      "Requirement already satisfied: requests>=2.3.0 in c:\\users\\pedro takenouchi\\anaconda3\\lib\\site-packages (from pandas-datareader>=0.2->empyrical>=0.5.0->pyfolio) (2.22.0)\n",
      "Requirement already satisfied: lxml in c:\\users\\pedro takenouchi\\anaconda3\\lib\\site-packages (from pandas-datareader>=0.2->empyrical>=0.5.0->pyfolio) (4.4.2)\n",
      "Requirement already satisfied: ipython-genutils in c:\\users\\pedro takenouchi\\anaconda3\\lib\\site-packages (from traitlets>=4.2->ipython>=3.2.3->pyfolio) (0.2.0)\n",
      "Requirement already satisfied: parso>=0.5.2 in c:\\users\\pedro takenouchi\\anaconda3\\lib\\site-packages (from jedi>=0.10->ipython>=3.2.3->pyfolio) (0.5.2)\n",
      "Requirement already satisfied: wcwidth in c:\\users\\pedro takenouchi\\anaconda3\\lib\\site-packages (from prompt-toolkit!=3.0.0,!=3.0.1,<3.1.0,>=2.0.0->ipython>=3.2.3->pyfolio) (0.1.8)\n",
      "Requirement already satisfied: certifi>=2017.4.17 in c:\\users\\pedro takenouchi\\anaconda3\\lib\\site-packages (from requests>=2.3.0->pandas-datareader>=0.2->empyrical>=0.5.0->pyfolio) (2019.11.28)\n",
      "Requirement already satisfied: chardet<3.1.0,>=3.0.2 in c:\\users\\pedro takenouchi\\anaconda3\\lib\\site-packages (from requests>=2.3.0->pandas-datareader>=0.2->empyrical>=0.5.0->pyfolio) (3.0.4)\n",
      "Requirement already satisfied: urllib3!=1.25.0,!=1.25.1,<1.26,>=1.21.1 in c:\\users\\pedro takenouchi\\anaconda3\\lib\\site-packages (from requests>=2.3.0->pandas-datareader>=0.2->empyrical>=0.5.0->pyfolio) (1.25.7)\n",
      "Requirement already satisfied: idna<2.9,>=2.5 in c:\\users\\pedro takenouchi\\anaconda3\\lib\\site-packages (from requests>=2.3.0->pandas-datareader>=0.2->empyrical>=0.5.0->pyfolio) (2.8)\n"
     ]
    }
   ],
   "source": [
    "!pip install pyfolio"
   ]
  },
  {
   "cell_type": "code",
   "execution_count": 44,
   "metadata": {},
   "outputs": [],
   "source": [
    "import pyfolio as pf\n"
   ]
  }
 ],
 "metadata": {
  "kernelspec": {
   "display_name": "Python 3",
   "language": "python",
   "name": "python3"
  },
  "language_info": {
   "codemirror_mode": {
    "name": "ipython",
    "version": 3
   },
   "file_extension": ".py",
   "mimetype": "text/x-python",
   "name": "python",
   "nbconvert_exporter": "python",
   "pygments_lexer": "ipython3",
   "version": "3.6.5"
  }
 },
 "nbformat": 4,
 "nbformat_minor": 2
}
