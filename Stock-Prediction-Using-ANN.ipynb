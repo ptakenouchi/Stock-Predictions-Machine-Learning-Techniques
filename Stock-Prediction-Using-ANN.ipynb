{
 "cells": [
  {
   "cell_type": "code",
   "execution_count": 1,
   "metadata": {
    "scrolled": true
   },
   "outputs": [
    {
     "name": "stderr",
     "output_type": "stream",
     "text": [
      "Using TensorFlow backend.\n",
      "/Users/shilpaagrawal/anaconda3/lib/python3.7/site-packages/tensorflow/python/framework/dtypes.py:516: FutureWarning: Passing (type, 1) or '1type' as a synonym of type is deprecated; in a future version of numpy, it will be understood as (type, (1,)) / '(1,)type'.\n",
      "  _np_qint8 = np.dtype([(\"qint8\", np.int8, 1)])\n",
      "/Users/shilpaagrawal/anaconda3/lib/python3.7/site-packages/tensorflow/python/framework/dtypes.py:517: FutureWarning: Passing (type, 1) or '1type' as a synonym of type is deprecated; in a future version of numpy, it will be understood as (type, (1,)) / '(1,)type'.\n",
      "  _np_quint8 = np.dtype([(\"quint8\", np.uint8, 1)])\n",
      "/Users/shilpaagrawal/anaconda3/lib/python3.7/site-packages/tensorflow/python/framework/dtypes.py:518: FutureWarning: Passing (type, 1) or '1type' as a synonym of type is deprecated; in a future version of numpy, it will be understood as (type, (1,)) / '(1,)type'.\n",
      "  _np_qint16 = np.dtype([(\"qint16\", np.int16, 1)])\n",
      "/Users/shilpaagrawal/anaconda3/lib/python3.7/site-packages/tensorflow/python/framework/dtypes.py:519: FutureWarning: Passing (type, 1) or '1type' as a synonym of type is deprecated; in a future version of numpy, it will be understood as (type, (1,)) / '(1,)type'.\n",
      "  _np_quint16 = np.dtype([(\"quint16\", np.uint16, 1)])\n",
      "/Users/shilpaagrawal/anaconda3/lib/python3.7/site-packages/tensorflow/python/framework/dtypes.py:520: FutureWarning: Passing (type, 1) or '1type' as a synonym of type is deprecated; in a future version of numpy, it will be understood as (type, (1,)) / '(1,)type'.\n",
      "  _np_qint32 = np.dtype([(\"qint32\", np.int32, 1)])\n",
      "/Users/shilpaagrawal/anaconda3/lib/python3.7/site-packages/tensorflow/python/framework/dtypes.py:525: FutureWarning: Passing (type, 1) or '1type' as a synonym of type is deprecated; in a future version of numpy, it will be understood as (type, (1,)) / '(1,)type'.\n",
      "  np_resource = np.dtype([(\"resource\", np.ubyte, 1)])\n",
      "/Users/shilpaagrawal/anaconda3/lib/python3.7/site-packages/tensorboard/compat/tensorflow_stub/dtypes.py:541: FutureWarning: Passing (type, 1) or '1type' as a synonym of type is deprecated; in a future version of numpy, it will be understood as (type, (1,)) / '(1,)type'.\n",
      "  _np_qint8 = np.dtype([(\"qint8\", np.int8, 1)])\n",
      "/Users/shilpaagrawal/anaconda3/lib/python3.7/site-packages/tensorboard/compat/tensorflow_stub/dtypes.py:542: FutureWarning: Passing (type, 1) or '1type' as a synonym of type is deprecated; in a future version of numpy, it will be understood as (type, (1,)) / '(1,)type'.\n",
      "  _np_quint8 = np.dtype([(\"quint8\", np.uint8, 1)])\n",
      "/Users/shilpaagrawal/anaconda3/lib/python3.7/site-packages/tensorboard/compat/tensorflow_stub/dtypes.py:543: FutureWarning: Passing (type, 1) or '1type' as a synonym of type is deprecated; in a future version of numpy, it will be understood as (type, (1,)) / '(1,)type'.\n",
      "  _np_qint16 = np.dtype([(\"qint16\", np.int16, 1)])\n",
      "/Users/shilpaagrawal/anaconda3/lib/python3.7/site-packages/tensorboard/compat/tensorflow_stub/dtypes.py:544: FutureWarning: Passing (type, 1) or '1type' as a synonym of type is deprecated; in a future version of numpy, it will be understood as (type, (1,)) / '(1,)type'.\n",
      "  _np_quint16 = np.dtype([(\"quint16\", np.uint16, 1)])\n",
      "/Users/shilpaagrawal/anaconda3/lib/python3.7/site-packages/tensorboard/compat/tensorflow_stub/dtypes.py:545: FutureWarning: Passing (type, 1) or '1type' as a synonym of type is deprecated; in a future version of numpy, it will be understood as (type, (1,)) / '(1,)type'.\n",
      "  _np_qint32 = np.dtype([(\"qint32\", np.int32, 1)])\n",
      "/Users/shilpaagrawal/anaconda3/lib/python3.7/site-packages/tensorboard/compat/tensorflow_stub/dtypes.py:550: FutureWarning: Passing (type, 1) or '1type' as a synonym of type is deprecated; in a future version of numpy, it will be understood as (type, (1,)) / '(1,)type'.\n",
      "  np_resource = np.dtype([(\"resource\", np.ubyte, 1)])\n"
     ]
    }
   ],
   "source": [
    "import numpy as np\n",
    "import matplotlib.pyplot as plt\n",
    "import pandas as pd\n",
    "from pandas import datetime\n",
    "import math\n",
    "from math import sqrt\n",
    "from keras.models import Sequential\n",
    "from keras.layers.core import Dense, Dropout, Activation"
   ]
  },
  {
   "cell_type": "markdown",
   "metadata": {},
   "source": [
    "* Get the stock data from Yahoo finance as a CSV for any company. \n",
    "* Drop all other columns (Volume, Year, Month and Day) and retain Open, High and Close - since I'm just predicting the close value for a day"
   ]
  },
  {
   "cell_type": "code",
   "execution_count": 2,
   "metadata": {},
   "outputs": [],
   "source": [
    "def get_stock_data(normalized=0):\n",
    "    url = \"stock-data.csv\"\n",
    "    col_names = ['date','open_aapl','high_aapl','low_aapl','close_aapl','volume_aapl',\n",
    "                'open_amzn','high_amzn','low_amzn','close_amzn','volume_amzn',\n",
    "                'open_fb','high_fb','low_fb','close_fb','volume_fb',\n",
    "                'open_googl','high_googl','low_googl','close_googl','volume_googl',\n",
    "                'open_nflx','high_nflx','low_nflx','close_nflx','volume_nflx']\n",
    "    stocks = pd.read_csv(url, header=0, names=col_names) \n",
    "    df = pd.DataFrame(stocks)\n",
    "#     date_split = df['date'].str.split(' ').str\n",
    "#     df['Year'], df['Month'], df['Day'] = date_split\n",
    "    df[\"volume_aapl\"] = df[\"volume_aapl\"] / 10000\n",
    "    df[\"volume_amzn\"] = df[\"volume_amzn\"] / 10000\n",
    "    df[\"volume_fb\"] = df[\"volume_fb\"] / 10000\n",
    "    df[\"volume_googl\"] = df[\"volume_googl\"] / 10000\n",
    "    df[\"volume_nflx\"] = df[\"volume_nflx\"] / 10000\n",
    "    return df"
   ]
  },
  {
   "cell_type": "code",
   "execution_count": 3,
   "metadata": {},
   "outputs": [
    {
     "data": {
      "text/html": [
       "<div>\n",
       "<style scoped>\n",
       "    .dataframe tbody tr th:only-of-type {\n",
       "        vertical-align: middle;\n",
       "    }\n",
       "\n",
       "    .dataframe tbody tr th {\n",
       "        vertical-align: top;\n",
       "    }\n",
       "\n",
       "    .dataframe thead th {\n",
       "        text-align: right;\n",
       "    }\n",
       "</style>\n",
       "<table border=\"1\" class=\"dataframe\">\n",
       "  <thead>\n",
       "    <tr style=\"text-align: right;\">\n",
       "      <th></th>\n",
       "      <th>date</th>\n",
       "      <th>open_aapl</th>\n",
       "      <th>high_aapl</th>\n",
       "      <th>low_aapl</th>\n",
       "      <th>close_aapl</th>\n",
       "      <th>volume_aapl</th>\n",
       "      <th>open_amzn</th>\n",
       "      <th>high_amzn</th>\n",
       "      <th>low_amzn</th>\n",
       "      <th>close_amzn</th>\n",
       "      <th>...</th>\n",
       "      <th>open_googl</th>\n",
       "      <th>high_googl</th>\n",
       "      <th>low_googl</th>\n",
       "      <th>close_googl</th>\n",
       "      <th>volume_googl</th>\n",
       "      <th>open_nflx</th>\n",
       "      <th>high_nflx</th>\n",
       "      <th>low_nflx</th>\n",
       "      <th>close_nflx</th>\n",
       "      <th>volume_nflx</th>\n",
       "    </tr>\n",
       "  </thead>\n",
       "  <tbody>\n",
       "    <tr>\n",
       "      <th>0</th>\n",
       "      <td>2012-05-18 00:00:00</td>\n",
       "      <td>76.279999</td>\n",
       "      <td>74.597145</td>\n",
       "      <td>77.629997</td>\n",
       "      <td>75.768570</td>\n",
       "      <td>18307.31</td>\n",
       "      <td>219.410004</td>\n",
       "      <td>212.809998</td>\n",
       "      <td>219.630005</td>\n",
       "      <td>213.850006</td>\n",
       "      <td>...</td>\n",
       "      <td>312.862854</td>\n",
       "      <td>298.648651</td>\n",
       "      <td>316.526520</td>\n",
       "      <td>300.500488</td>\n",
       "      <td>1193.50</td>\n",
       "      <td>10.328571</td>\n",
       "      <td>9.337143</td>\n",
       "      <td>10.392858</td>\n",
       "      <td>9.994286</td>\n",
       "      <td>2941.54</td>\n",
       "    </tr>\n",
       "    <tr>\n",
       "      <th>1</th>\n",
       "      <td>2012-05-21 00:00:00</td>\n",
       "      <td>76.357140</td>\n",
       "      <td>76.292854</td>\n",
       "      <td>80.220001</td>\n",
       "      <td>80.182854</td>\n",
       "      <td>15777.65</td>\n",
       "      <td>214.029999</td>\n",
       "      <td>212.820007</td>\n",
       "      <td>219.979996</td>\n",
       "      <td>218.110001</td>\n",
       "      <td>...</td>\n",
       "      <td>300.555542</td>\n",
       "      <td>300.300293</td>\n",
       "      <td>308.153168</td>\n",
       "      <td>307.362366</td>\n",
       "      <td>614.46</td>\n",
       "      <td>9.978572</td>\n",
       "      <td>9.650000</td>\n",
       "      <td>10.312857</td>\n",
       "      <td>10.248571</td>\n",
       "      <td>2514.33</td>\n",
       "    </tr>\n",
       "    <tr>\n",
       "      <th>2</th>\n",
       "      <td>2012-05-22 00:00:00</td>\n",
       "      <td>81.364288</td>\n",
       "      <td>78.940002</td>\n",
       "      <td>81.982857</td>\n",
       "      <td>79.567146</td>\n",
       "      <td>17371.76</td>\n",
       "      <td>218.309998</td>\n",
       "      <td>213.960007</td>\n",
       "      <td>218.869995</td>\n",
       "      <td>215.330002</td>\n",
       "      <td>...</td>\n",
       "      <td>307.027039</td>\n",
       "      <td>298.298309</td>\n",
       "      <td>307.212219</td>\n",
       "      <td>300.700714</td>\n",
       "      <td>609.76</td>\n",
       "      <td>10.257143</td>\n",
       "      <td>9.607142</td>\n",
       "      <td>10.342857</td>\n",
       "      <td>9.672857</td>\n",
       "      <td>4001.48</td>\n",
       "    </tr>\n",
       "    <tr>\n",
       "      <th>3</th>\n",
       "      <td>2012-05-23 00:00:00</td>\n",
       "      <td>79.642860</td>\n",
       "      <td>79.032860</td>\n",
       "      <td>81.828575</td>\n",
       "      <td>81.508568</td>\n",
       "      <td>14622.44</td>\n",
       "      <td>214.710007</td>\n",
       "      <td>211.179993</td>\n",
       "      <td>217.550003</td>\n",
       "      <td>217.279999</td>\n",
       "      <td>...</td>\n",
       "      <td>301.126129</td>\n",
       "      <td>298.858856</td>\n",
       "      <td>305.105103</td>\n",
       "      <td>305.035034</td>\n",
       "      <td>634.98</td>\n",
       "      <td>9.638572</td>\n",
       "      <td>9.595715</td>\n",
       "      <td>10.307143</td>\n",
       "      <td>10.272857</td>\n",
       "      <td>4410.00</td>\n",
       "    </tr>\n",
       "    <tr>\n",
       "      <th>4</th>\n",
       "      <td>2012-05-24 00:00:00</td>\n",
       "      <td>82.267143</td>\n",
       "      <td>80.175713</td>\n",
       "      <td>82.357140</td>\n",
       "      <td>80.760002</td>\n",
       "      <td>12405.75</td>\n",
       "      <td>216.979996</td>\n",
       "      <td>212.699997</td>\n",
       "      <td>217.660004</td>\n",
       "      <td>215.240005</td>\n",
       "      <td>...</td>\n",
       "      <td>304.884888</td>\n",
       "      <td>299.734741</td>\n",
       "      <td>306.266266</td>\n",
       "      <td>302.132141</td>\n",
       "      <td>377.88</td>\n",
       "      <td>10.217143</td>\n",
       "      <td>9.928572</td>\n",
       "      <td>10.241428</td>\n",
       "      <td>10.038571</td>\n",
       "      <td>2074.24</td>\n",
       "    </tr>\n",
       "  </tbody>\n",
       "</table>\n",
       "<p>5 rows × 26 columns</p>\n",
       "</div>"
      ],
      "text/plain": [
       "                  date  open_aapl  high_aapl   low_aapl  close_aapl  \\\n",
       "0  2012-05-18 00:00:00  76.279999  74.597145  77.629997   75.768570   \n",
       "1  2012-05-21 00:00:00  76.357140  76.292854  80.220001   80.182854   \n",
       "2  2012-05-22 00:00:00  81.364288  78.940002  81.982857   79.567146   \n",
       "3  2012-05-23 00:00:00  79.642860  79.032860  81.828575   81.508568   \n",
       "4  2012-05-24 00:00:00  82.267143  80.175713  82.357140   80.760002   \n",
       "\n",
       "   volume_aapl   open_amzn   high_amzn    low_amzn  close_amzn  ...  \\\n",
       "0     18307.31  219.410004  212.809998  219.630005  213.850006  ...   \n",
       "1     15777.65  214.029999  212.820007  219.979996  218.110001  ...   \n",
       "2     17371.76  218.309998  213.960007  218.869995  215.330002  ...   \n",
       "3     14622.44  214.710007  211.179993  217.550003  217.279999  ...   \n",
       "4     12405.75  216.979996  212.699997  217.660004  215.240005  ...   \n",
       "\n",
       "   open_googl  high_googl   low_googl  close_googl  volume_googl  open_nflx  \\\n",
       "0  312.862854  298.648651  316.526520   300.500488       1193.50  10.328571   \n",
       "1  300.555542  300.300293  308.153168   307.362366        614.46   9.978572   \n",
       "2  307.027039  298.298309  307.212219   300.700714        609.76  10.257143   \n",
       "3  301.126129  298.858856  305.105103   305.035034        634.98   9.638572   \n",
       "4  304.884888  299.734741  306.266266   302.132141        377.88  10.217143   \n",
       "\n",
       "   high_nflx   low_nflx  close_nflx  volume_nflx  \n",
       "0   9.337143  10.392858    9.994286      2941.54  \n",
       "1   9.650000  10.312857   10.248571      2514.33  \n",
       "2   9.607142  10.342857    9.672857      4001.48  \n",
       "3   9.595715  10.307143   10.272857      4410.00  \n",
       "4   9.928572  10.241428   10.038571      2074.24  \n",
       "\n",
       "[5 rows x 26 columns]"
      ]
     },
     "execution_count": 3,
     "metadata": {},
     "output_type": "execute_result"
    }
   ],
   "source": [
    "df = get_stock_data(0)\n",
    "df.head()"
   ]
  },
  {
   "cell_type": "code",
   "execution_count": 4,
   "metadata": {},
   "outputs": [
    {
     "data": {
      "text/html": [
       "<div>\n",
       "<style scoped>\n",
       "    .dataframe tbody tr th:only-of-type {\n",
       "        vertical-align: middle;\n",
       "    }\n",
       "\n",
       "    .dataframe tbody tr th {\n",
       "        vertical-align: top;\n",
       "    }\n",
       "\n",
       "    .dataframe thead th {\n",
       "        text-align: right;\n",
       "    }\n",
       "</style>\n",
       "<table border=\"1\" class=\"dataframe\">\n",
       "  <thead>\n",
       "    <tr style=\"text-align: right;\">\n",
       "      <th></th>\n",
       "      <th>open_aapl</th>\n",
       "      <th>high_aapl</th>\n",
       "      <th>low_aapl</th>\n",
       "      <th>close_aapl</th>\n",
       "      <th>volume_aapl</th>\n",
       "    </tr>\n",
       "  </thead>\n",
       "  <tbody>\n",
       "    <tr>\n",
       "      <th>0</th>\n",
       "      <td>76.279999</td>\n",
       "      <td>74.597145</td>\n",
       "      <td>77.629997</td>\n",
       "      <td>75.768570</td>\n",
       "      <td>18307.31</td>\n",
       "    </tr>\n",
       "    <tr>\n",
       "      <th>1</th>\n",
       "      <td>76.357140</td>\n",
       "      <td>76.292854</td>\n",
       "      <td>80.220001</td>\n",
       "      <td>80.182854</td>\n",
       "      <td>15777.65</td>\n",
       "    </tr>\n",
       "    <tr>\n",
       "      <th>2</th>\n",
       "      <td>81.364288</td>\n",
       "      <td>78.940002</td>\n",
       "      <td>81.982857</td>\n",
       "      <td>79.567146</td>\n",
       "      <td>17371.76</td>\n",
       "    </tr>\n",
       "    <tr>\n",
       "      <th>3</th>\n",
       "      <td>79.642860</td>\n",
       "      <td>79.032860</td>\n",
       "      <td>81.828575</td>\n",
       "      <td>81.508568</td>\n",
       "      <td>14622.44</td>\n",
       "    </tr>\n",
       "    <tr>\n",
       "      <th>4</th>\n",
       "      <td>82.267143</td>\n",
       "      <td>80.175713</td>\n",
       "      <td>82.357140</td>\n",
       "      <td>80.760002</td>\n",
       "      <td>12405.75</td>\n",
       "    </tr>\n",
       "  </tbody>\n",
       "</table>\n",
       "</div>"
      ],
      "text/plain": [
       "   open_aapl  high_aapl   low_aapl  close_aapl  volume_aapl\n",
       "0  76.279999  74.597145  77.629997   75.768570     18307.31\n",
       "1  76.357140  76.292854  80.220001   80.182854     15777.65\n",
       "2  81.364288  78.940002  81.982857   79.567146     17371.76\n",
       "3  79.642860  79.032860  81.828575   81.508568     14622.44\n",
       "4  82.267143  80.175713  82.357140   80.760002     12405.75"
      ]
     },
     "execution_count": 4,
     "metadata": {},
     "output_type": "execute_result"
    }
   ],
   "source": [
    "df.drop(df.columns[[0,6,7,8,9,10,11,12,13,14,15,16,17,18,19,20,21,22,23,24,25]], axis=1, inplace=True)\n",
    "df.head()"
   ]
  },
  {
   "cell_type": "markdown",
   "metadata": {},
   "source": [
    "<h2>Normalizing and removing the null data points</h2>"
   ]
  },
  {
   "cell_type": "code",
   "execution_count": 5,
   "metadata": {},
   "outputs": [
    {
     "name": "stdout",
     "output_type": "stream",
     "text": [
      "      open_aapl  high_aapl    low_aapl  close_aapl  volume_aapl\n",
      "0      0.762800   0.745971   77.629997    0.757686    1830731.0\n",
      "1      0.763571   0.762929   80.220001    0.801829    1577765.0\n",
      "2      0.813643   0.789400   81.982857    0.795671    1737176.0\n",
      "3      0.796429   0.790329   81.828575    0.815086    1462244.0\n",
      "4      0.822671   0.801757   82.357140    0.807600    1240575.0\n",
      "5      0.806557   0.797814   80.835716    0.803271     821268.0\n",
      "6      0.815571   0.807586   82.000000    0.817529     951272.0\n",
      "7      0.813143   0.809371   82.855713    0.827386    1323574.0\n",
      "8      0.829629   0.816371   83.071426    0.825329    1229186.0\n",
      "9      0.813086   0.800743   81.807144    0.801414    1302469.0\n",
      "10     0.802143   0.783571   81.071426    0.806129    1392489.0\n",
      "11     0.801814   0.797614   80.924286    0.804043     970536.0\n",
      "12     0.811100   0.807857   81.978569    0.816371    1003639.0\n",
      "13     0.824700   0.815000   82.474289    0.816743     949417.0\n",
      "14     0.816571   0.812857   82.940002    0.829029     868791.0\n",
      "15     0.839600   0.815186   84.071426    0.815957    1478162.0\n",
      "16     0.820657   0.809571   82.374283    0.823086    1088451.0\n",
      "17     0.820743   0.814829   82.639999    0.817371     733950.0\n",
      "18     0.816057   0.810371   81.928574    0.816471     863933.0\n",
      "19     0.815714   0.813643   82.088570    0.820186     838138.0\n",
      "20     0.815657   0.814814   83.984283    0.836829    1101030.0\n",
      "21     0.833429   0.833000   84.285713    0.839157     903511.0\n",
      "22     0.840300   0.829714   84.178574    0.836771     897358.0\n",
      "23     0.836343   0.824914   84.031425    0.825243     815878.0\n",
      "24     0.827200   0.822029   83.169998    0.831571     711179.0\n",
      "25     0.824714   0.814814   82.828575    0.815386     760956.0\n",
      "26     0.816186   0.810471   82.070000    0.817186     691341.0\n",
      "27     0.821429   0.817029   82.391426    0.820714     507493.0\n",
      "28     0.816671   0.808014   82.000000    0.812929     707091.0\n",
      "29     0.825714   0.820357   83.428574    0.834286    1053752.0\n",
      "...         ...        ...         ...         ...          ...\n",
      "1894   2.655800   2.653100  267.980011    2.678400     163089.0\n",
      "1895   2.666000   2.659000  268.000000    2.672500     116544.0\n",
      "1896   2.672700   2.634500  268.250000    2.641600     236218.0\n",
      "1897   2.583100   2.562900  259.529999    2.594500     286076.0\n",
      "1898   2.610700   2.606800  263.309998    2.617400     167954.0\n",
      "1899   2.637900   2.627300  265.890015    2.655800     186061.0\n",
      "1900   2.674800   2.673000  271.000000    2.707100     265189.0\n",
      "1901   2.700000   2.649100  270.799988    2.669200     320106.0\n",
      "1902   2.686000   2.658600  270.070007    2.684800     226051.0\n",
      "1903   2.688100   2.685000  271.100006    2.707700     196892.0\n",
      "1904   2.677800   2.673200  272.559998    2.714600     343276.0\n",
      "1905   2.714600   2.709300  275.299988    2.751500     333969.0\n",
      "1906   2.770000   2.769800  280.790009    2.798600     320465.0\n",
      "1907   2.795700   2.788000  281.769989    2.804100     285396.0\n",
      "1908   2.798000   2.791200  281.899994    2.797400     290071.0\n",
      "1909   2.795000   2.789500  281.179993    2.800200     245923.0\n",
      "1910   2.822300   2.785600  282.649994    2.794400     689945.0\n",
      "1911   2.805300   2.803700  284.250000    2.840000     246430.0\n",
      "1912   2.846900   2.829200  284.890015    2.842700     121197.0\n",
      "1913   2.848200   2.847000  289.980011    2.899100     232803.0\n",
      "1914   2.911200   2.881200  293.970001    2.898000     365665.0\n",
      "1915   2.894600   2.852200  292.690002    2.915200     360286.0\n",
      "1916   2.899300   2.895200  293.679993    2.936500     252014.0\n",
      "1917   2.962400   2.951900  300.600006    3.003500     338701.0\n",
      "1918   2.971500   2.965000  300.579987    2.974300     365807.0\n",
      "1919   2.937900   2.927500  299.959991    2.998000     295968.0\n",
      "1920   2.998400   2.974800  300.899994    2.983900     272180.0\n",
      "1921   2.971600   2.971600  304.440002    3.031900     330198.0\n",
      "1922   3.072400   3.062000  310.429993    3.096300     425271.0\n",
      "1923   3.106000   3.082500  312.670013    3.103300     351612.0\n",
      "\n",
      "[1924 rows x 5 columns]\n"
     ]
    }
   ],
   "source": [
    "df['open_aapl'] = df['open_aapl']/100\n",
    "df['high_aapl'] = df['high_aapl']/100\n",
    "df['volume_aapl'] = df['volume_aapl']*100\n",
    "df['close_aapl'] = df['close_aapl']/100\n",
    "print(df)\n",
    "# nan_value_index = []\n",
    "# High = df.High.isnull()\n",
    "# for i in range(0, len(High)):\n",
    "#     if High[i] == 1:\n",
    "#         nan_value_index.append(i)\n",
    "#         df['High'][i] = 0\n",
    "# Open = df.Open.isnull()\n",
    "# for i in range(0, len(Open)):\n",
    "#     if Open[i] == 1:\n",
    "#         nan_value_index.append(i)\n",
    "#         df['Open'][i] = 0\n",
    "# Volume = df.Volume.isnull()\n",
    "# for i in range(0, len(Volume)):\n",
    "#     if Volume[i] == 1:\n",
    "#         nan_value_index.append(i)\n",
    "#         df['Volume'][i] = 0\n",
    "# Close = df.Close.isnull()\n",
    "# for i in range(0, len(Close)):\n",
    "#     if Close[i] == 1:\n",
    "#         nan_value_index.append(i)\n",
    "#         df['Close'][i] = 0"
   ]
  },
  {
   "cell_type": "code",
   "execution_count": 6,
   "metadata": {},
   "outputs": [],
   "source": [
    "X = df[['high_aapl','open_aapl', 'volume_aapl']]\n",
    "Y = df[['close_aapl']]\n",
    "factor = 0.80\n",
    "length = X.shape[0]\n",
    "total_for_train = int(length*factor)\n",
    "X_train = X[:total_for_train]\n",
    "Y_train = Y[:total_for_train]\n",
    "X_test = X[total_for_train:]\n",
    "Y_test = Y[total_for_train:]"
   ]
  },
  {
   "cell_type": "code",
   "execution_count": 7,
   "metadata": {},
   "outputs": [
    {
     "name": "stdout",
     "output_type": "stream",
     "text": [
      "X_train (1539, 3)\n",
      "y_train (1539, 1)\n",
      "X_test (385, 3)\n",
      "y_test (385, 1)\n"
     ]
    }
   ],
   "source": [
    "print(\"X_train\", X_train.shape)\n",
    "print(\"y_train\", Y_train.shape)\n",
    "print(\"X_test\", X_test.shape)\n",
    "print(\"y_test\", Y_test.shape)"
   ]
  },
  {
   "cell_type": "markdown",
   "metadata": {},
   "source": [
    "<h2>Compiling and training the neural network model</h2>"
   ]
  },
  {
   "cell_type": "code",
   "execution_count": 8,
   "metadata": {},
   "outputs": [
    {
     "name": "stdout",
     "output_type": "stream",
     "text": [
      "WARNING:tensorflow:From /Users/shilpaagrawal/anaconda3/lib/python3.7/site-packages/keras/backend/tensorflow_backend.py:422: The name tf.global_variables is deprecated. Please use tf.compat.v1.global_variables instead.\n",
      "\n",
      "Train on 1462 samples, validate on 77 samples\n",
      "Epoch 1/10\n",
      "1462/1462 [==============================] - 1s 659us/step - loss: 4140.1348 - val_loss: 422.7361\n",
      "Epoch 2/10\n",
      "1462/1462 [==============================] - 0s 33us/step - loss: 1017.8033 - val_loss: 79.4139\n",
      "Epoch 3/10\n",
      "1462/1462 [==============================] - 0s 28us/step - loss: 207.3008 - val_loss: 6.6759\n",
      "Epoch 4/10\n",
      "1462/1462 [==============================] - 0s 30us/step - loss: 61.8406 - val_loss: 18.4274\n",
      "Epoch 5/10\n",
      "1462/1462 [==============================] - 0s 35us/step - loss: 27.4558 - val_loss: 0.5654\n",
      "Epoch 6/10\n",
      "1462/1462 [==============================] - 0s 56us/step - loss: 7.7574 - val_loss: 1.1969\n",
      "Epoch 7/10\n",
      "1462/1462 [==============================] - 0s 31us/step - loss: 2.8795 - val_loss: 3.9138\n",
      "Epoch 8/10\n",
      "1462/1462 [==============================] - 0s 28us/step - loss: 1.1333 - val_loss: 2.8213\n",
      "Epoch 9/10\n",
      "1462/1462 [==============================] - 0s 34us/step - loss: 0.8383 - val_loss: 2.2359\n",
      "Epoch 10/10\n",
      "1462/1462 [==============================] - 0s 34us/step - loss: 0.6918 - val_loss: 2.0474\n"
     ]
    },
    {
     "data": {
      "text/plain": [
       "<keras.callbacks.callbacks.History at 0x63a66fac8>"
      ]
     },
     "execution_count": 8,
     "metadata": {},
     "output_type": "execute_result"
    }
   ],
   "source": [
    "classifier = Sequential()\n",
    "classifier.add(Dense(units = 32, kernel_initializer = 'uniform', activation = 'relu', input_dim = 3))\n",
    "classifier.add(Dense(units = 10, kernel_initializer = 'uniform', activation = 'relu'))\n",
    "classifier.add(Dense(units = 1, kernel_initializer = 'uniform', activation = 'linear'))\n",
    "classifier.compile(optimizer = 'adam', loss = 'mean_squared_error', metrics = [])\n",
    "classifier.fit(X_train, Y_train, batch_size = 128, epochs = 10, validation_split=0.05)"
   ]
  },
  {
   "cell_type": "markdown",
   "metadata": {},
   "source": [
    "<h2>Predicted Values</h2>"
   ]
  },
  {
   "cell_type": "code",
   "execution_count": 9,
   "metadata": {},
   "outputs": [
    {
     "name": "stdout",
     "output_type": "stream",
     "text": [
      "[[0.23269707]\n",
      " [0.18425995]\n",
      " [0.21824223]\n",
      " [0.22954613]\n",
      " [0.25870472]\n",
      " [0.20973355]\n",
      " [0.24683625]\n",
      " [0.23669392]\n",
      " [0.1657911 ]\n",
      " [0.19823891]]\n"
     ]
    }
   ],
   "source": [
    "predictions = classifier.predict(X_test)\n",
    "print(predictions[:10])"
   ]
  },
  {
   "cell_type": "markdown",
   "metadata": {},
   "source": [
    "Execute the trained model"
   ]
  },
  {
   "cell_type": "markdown",
   "metadata": {},
   "source": [
    "<h2>Calculating the error in the trained Neural Network model</h2>"
   ]
  },
  {
   "cell_type": "code",
   "execution_count": 10,
   "metadata": {},
   "outputs": [
    {
     "name": "stdout",
     "output_type": "stream",
     "text": [
      "Train Score: 0.74 MSE (0.86 RMSE)\n",
      "Test Score: 2.98 MSE (1.73 RMSE)\n"
     ]
    }
   ],
   "source": [
    "trainScore = classifier.evaluate(X_train, Y_train, verbose=0)\n",
    "print('Train Score: %.2f MSE (%.2f RMSE)' % (trainScore, math.sqrt(trainScore)))\n",
    "testScore = classifier.evaluate(X_test, Y_test, verbose=0)\n",
    "print('Test Score: %.2f MSE (%.2f RMSE)' % (testScore, math.sqrt(testScore)))"
   ]
  },
  {
   "cell_type": "markdown",
   "metadata": {},
   "source": [
    "<h2>Predictions vs Real results</h2>"
   ]
  },
  {
   "cell_type": "code",
   "execution_count": 11,
   "metadata": {},
   "outputs": [
    {
     "data": {
      "image/png": "[encoded data removed]",
      "text/plain": [
       "<Figure size 432x288 with 1 Axes>"
      ]
     },
     "metadata": {
      "needs_background": "light"
     },
     "output_type": "display_data"
    },
    {
     "data": {
      "image/png": "[encoded data removed]",
      "text/plain": [
       "<Figure size 432x288 with 1 Axes>"
      ]
     },
     "metadata": {
      "needs_background": "light"
     },
     "output_type": "display_data"
    }
   ],
   "source": [
    "import matplotlib.pyplot as plt\n",
    "plt.plot(predictions,color='red', label='Predictions from the trained model')\n",
    "plt.legend(loc='upper left')\n",
    "plt.show()\n",
    "plt.plot(Y_test,color='blue', label='Read values for the stock')\n",
    "plt.legend(loc='upper left')\n",
    "plt.show()"
   ]
  },
  {
   "cell_type": "code",
   "execution_count": null,
   "metadata": {},
   "outputs": [],
   "source": []
  }
 ],
 "metadata": {
  "kernelspec": {
   "display_name": "Python 3",
   "language": "python",
   "name": "python3"
  },
  "language_info": {
   "codemirror_mode": {
    "name": "ipython",
    "version": 3
   },
   "file_extension": ".py",
   "mimetype": "text/x-python",
   "name": "python",
   "nbconvert_exporter": "python",
   "pygments_lexer": "ipython3",
   "version": "3.7.3"
  }
 },
 "nbformat": 4,
 "nbformat_minor": 2
}
