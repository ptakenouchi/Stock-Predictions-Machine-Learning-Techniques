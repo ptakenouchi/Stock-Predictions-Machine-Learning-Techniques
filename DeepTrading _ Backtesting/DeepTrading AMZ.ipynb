{
 "cells": [
  {
   "cell_type": "code",
   "execution_count": 1,
   "metadata": {},
   "outputs": [
    {
     "name": "stderr",
     "output_type": "stream",
     "text": [
      "Using TensorFlow backend.\n"
     ]
    }
   ],
   "source": [
    "import keras\n",
    "from backtest import *\n",
    "import numpy as np\n",
    "import pandas as pd\n",
    "import matplotlib.pylab as plt\n",
    "\n",
    "from keras.models import Sequential\n",
    "from keras.models import Model\n",
    "from keras.layers.core import Dense, Dropout, Activation, Flatten, Permute, Reshape\n",
    "from keras.layers import Input, concatenate, GaussianNoise\n",
    "from keras.layers.recurrent import LSTM, GRU, SimpleRNN\n",
    "from keras.layers import Convolution1D, MaxPooling1D, GlobalAveragePooling1D, GlobalMaxPooling1D, RepeatVector, AveragePooling1D\n",
    "from keras.callbacks import ModelCheckpoint, ReduceLROnPlateau, CSVLogger, EarlyStopping\n",
    "from keras.layers.wrappers import Bidirectional, TimeDistributed\n",
    "from keras import regularizers\n",
    "from keras.layers.normalization import BatchNormalization\n",
    "from keras.layers.advanced_activations import *\n",
    "from keras.optimizers import RMSprop, Adam, SGD, Nadam\n",
    "from keras.initializers import *\n",
    "from keras.constraints import *\n",
    "from keras import regularizers\n",
    "from keras import losses\n",
    "\n",
    "from sklearn.metrics import r2_score\n",
    "from sklearn.metrics import confusion_matrix\n",
    "from sklearn.metrics import classification_report\n",
    "from sklearn.metrics import matthews_corrcoef"
   ]
  },
  {
   "cell_type": "code",
   "execution_count": 2,
   "metadata": {},
   "outputs": [],
   "source": [
    "symbol = 'AMZ'\n",
    "bars = pd.read_csv('./data/%s.csv' % symbol, header=0, parse_dates=['Date'])"
   ]
  },
  {
   "cell_type": "code",
   "execution_count": 3,
   "metadata": {},
   "outputs": [
    {
     "name": "stdout",
     "output_type": "stream",
     "text": [
      "      Unnamed: 0         Open       Date         High          Low  \\\n",
      "0              0   219.410004 2012-05-18   212.809998   219.630005   \n",
      "1              1   214.029999 2012-05-21   212.820007   219.979996   \n",
      "2              2   218.309998 2012-05-22   213.960007   218.869995   \n",
      "3              3   214.710007 2012-05-23   211.179993   217.550003   \n",
      "4              4   216.979996 2012-05-24   212.699997   217.660004   \n",
      "5              5   214.990006 2012-05-25   212.220001   215.979996   \n",
      "6              6   214.300003 2012-05-29   212.289993   216.550003   \n",
      "7              7   212.139999 2012-05-30   207.750000   212.979996   \n",
      "8              8   209.479996 2012-05-31   207.110001   213.789993   \n",
      "9              9   208.440002 2012-06-01   207.300003   211.229996   \n",
      "10            10   207.399994 2012-06-04   206.369995   215.350006   \n",
      "11            11   213.850006 2012-06-05   211.160004   216.860001   \n",
      "12            12   214.630005 2012-06-06   214.520004   218.399994   \n",
      "13            13   219.649994 2012-06-07   218.110001   221.490006   \n",
      "14            14   218.610001 2012-06-08   216.660004   219.419998   \n",
      "15            15   217.490006 2012-06-11   215.199997   220.869995   \n",
      "16            16   217.649994 2012-06-12   214.520004   218.000000   \n",
      "17            17   215.520004 2012-06-13   213.520004   217.380005   \n",
      "18            18   215.259994 2012-06-14   212.559998   216.500000   \n",
      "19            19   215.289993 2012-06-15   214.460007   219.330002   \n",
      "20            20   217.279999 2012-06-18   216.729996   223.759994   \n",
      "21            21   223.259994 2012-06-19   221.660004   225.199997   \n",
      "22            22   224.509994 2012-06-20   220.839996   224.740006   \n",
      "23            23   223.839996 2012-06-21   220.520004   226.029999   \n",
      "24            24   221.830002 2012-06-22   219.350006   222.509994   \n",
      "25            25   220.300003 2012-06-25   218.000000   221.589996   \n",
      "26            26   221.449997 2012-06-26   221.449997   226.389999   \n",
      "27            27   225.009994 2012-06-27   223.300003   227.500000   \n",
      "28            28   223.919998 2012-06-28   218.750000   224.619995   \n",
      "29            29   224.699997 2012-06-29   223.710007   228.350006   \n",
      "...          ...          ...        ...          ...          ...   \n",
      "1893        1893  1779.920044 2019-11-26  1778.349976  1797.030029   \n",
      "1894        1894  1801.000000 2019-11-27  1797.310059  1824.500000   \n",
      "1895        1895  1817.780029 2019-11-29  1800.790039  1824.689941   \n",
      "1896        1896  1804.400024 2019-12-02  1762.680054  1805.550049   \n",
      "1897        1897  1760.000000 2019-12-03  1747.229980  1772.869995   \n",
      "1898        1898  1774.010010 2019-12-04  1760.219971  1789.089966   \n",
      "1899        1899  1763.500000 2019-12-05  1740.000000  1763.500000   \n",
      "1900        1900  1751.199951 2019-12-06  1740.130005  1754.400024   \n",
      "1901        1901  1750.660034 2019-12-09  1745.609985  1766.890015   \n",
      "1902        1902  1747.400024 2019-12-10  1735.000000  1750.670044   \n",
      "1903        1903  1741.670044 2019-12-11  1735.709961  1750.000000   \n",
      "1904        1904  1750.000000 2019-12-12  1745.439941  1764.000000   \n",
      "1905        1905  1765.000000 2019-12-13  1755.000000  1768.989990   \n",
      "1906        1906  1767.000000 2019-12-16  1757.050049  1769.500000   \n",
      "1907        1907  1778.010010 2019-12-17  1777.390015  1792.000000   \n",
      "1908        1908  1795.020020 2019-12-18  1782.359985  1798.199951   \n",
      "1909        1909  1780.500000 2019-12-19  1774.060059  1792.989990   \n",
      "1910        1910  1799.619995 2019-12-20  1782.449951  1802.969971   \n",
      "1911        1911  1788.260010 2019-12-23  1784.510010  1793.000000   \n",
      "1912        1912  1793.810059 2019-12-24  1787.579956  1795.569946   \n",
      "1913        1913  1801.010010 2019-12-26  1799.500000  1870.459961   \n",
      "1914        1914  1882.920044 2019-12-27  1866.010010  1901.400024   \n",
      "1915        1915  1874.000000 2019-12-30  1840.619995  1884.000000   \n",
      "1916        1916  1842.000000 2019-12-31  1832.229980  1853.260010   \n",
      "1917        1917  1875.000000 2020-01-02  1864.150024  1898.010010   \n",
      "1918        1918  1864.500000 2020-01-03  1864.500000  1886.199951   \n",
      "1919        1919  1860.000000 2020-01-06  1860.000000  1903.689941   \n",
      "1920        1920  1904.500000 2020-01-07  1892.040039  1913.890015   \n",
      "1921        1921  1898.040039 2020-01-08  1886.439941  1911.000000   \n",
      "1922        1922  1909.890015 2020-01-09  1895.800049  1917.819946   \n",
      "\n",
      "            Close   Volume  \n",
      "0      213.850006  5231700  \n",
      "1      218.110001  3579800  \n",
      "2      215.330002  3733100  \n",
      "3      217.279999  4243800  \n",
      "4      215.240006  3141100  \n",
      "5      212.889999  2171400  \n",
      "6      214.750000  2693900  \n",
      "7      209.229996  4078200  \n",
      "8      212.910004  4944000  \n",
      "9      208.220001  3951500  \n",
      "10     214.570007  4299600  \n",
      "11     213.210007  3543900  \n",
      "12     217.639999  2710100  \n",
      "13     218.800003  3503900  \n",
      "14     218.479996  2877000  \n",
      "15     216.500000  3749100  \n",
      "16     216.419998  2833300  \n",
      "17     214.729996  2325200  \n",
      "18     214.449997  3060900  \n",
      "19     218.350006  3785200  \n",
      "20     222.660004  3369600  \n",
      "21     224.029999  2716600  \n",
      "22     223.020004  2444400  \n",
      "23     220.570007  2843000  \n",
      "24     222.160004  2187500  \n",
      "25     220.070007  2382300  \n",
      "26     225.610001  3754100  \n",
      "27     225.619995  2799200  \n",
      "28     221.309998  2994800  \n",
      "29     228.350006  3614400  \n",
      "...           ...      ...  \n",
      "1893  1796.939941  3181200  \n",
      "1894  1818.510010  3025600  \n",
      "1895  1800.800049  1923400  \n",
      "1896  1781.599976  3925600  \n",
      "1897  1769.959961  3380900  \n",
      "1898  1760.689941  2670100  \n",
      "1899  1740.479980  2823800  \n",
      "1900  1751.599976  3117400  \n",
      "1901  1749.510010  2442800  \n",
      "1902  1739.209961  2514300  \n",
      "1903  1748.719971  2097600  \n",
      "1904  1760.329956  3095900  \n",
      "1905  1760.939941  2745700  \n",
      "1906  1769.209961  3145200  \n",
      "1907  1790.660034  3644400  \n",
      "1908  1784.030029  3351400  \n",
      "1909  1792.280029  2652800  \n",
      "1910  1786.500000  5150800  \n",
      "1911  1793.000000  2136400  \n",
      "1912  1789.209961   881300  \n",
      "1913  1868.770020  6005400  \n",
      "1914  1869.800049  6186600  \n",
      "1915  1846.890015  3674700  \n",
      "1916  1847.839966  2506500  \n",
      "1917  1898.010010  4029000  \n",
      "1918  1874.969971  3764400  \n",
      "1919  1902.880005  4061800  \n",
      "1920  1906.859985  4044900  \n",
      "1921  1891.969971  3508000  \n",
      "1922  1901.050049  3167300  \n",
      "\n",
      "[1923 rows x 7 columns]\n"
     ]
    }
   ],
   "source": [
    "print(bars)"
   ]
  },
  {
   "cell_type": "code",
   "execution_count": 4,
   "metadata": {},
   "outputs": [],
   "source": [
    "START_TRAIN_DATE = '2012-05-18'\n",
    "END_TRAIN_DATE = '2018-06-27'\n",
    "START_TEST_DATE = '2018-06-28'\n",
    "END_TEST_DATE = '2020-01-09'\n",
    "LOOKBACK = 7\n",
    "STEP = 1\n",
    "FORECAST = 1\n",
    "INIT_CAPITAL = 10000\n",
    "STAKE = 10"
   ]
  },
  {
   "cell_type": "code",
   "execution_count": 5,
   "metadata": {},
   "outputs": [],
   "source": [
    "train_set = bars[(bars['Date'] > START_TRAIN_DATE) & (bars['Date'] < END_TRAIN_DATE)]"
   ]
  },
  {
   "cell_type": "code",
   "execution_count": 6,
   "metadata": {},
   "outputs": [],
   "source": [
    "test_set = bars[(bars['Date'] > START_TEST_DATE) & (bars['Date'] < END_TEST_DATE)]"
   ]
  },
  {
   "cell_type": "code",
   "execution_count": 7,
   "metadata": {},
   "outputs": [],
   "source": [
    "def create_dataset(data):\n",
    "    \n",
    "    highp = pd.to_numeric(data.ix[:, 'High'])\n",
    "    lowp = pd.to_numeric(data.ix[:, 'Low'])\n",
    "    openp = pd.to_numeric(data.ix[:, 'Open'])\n",
    "    closep = pd.to_numeric(data.ix[:, 'Close'])\n",
    "    volumep = pd.to_numeric(data.ix[:, 'Volume'])\n",
    "\n",
    "    normal_close = closep.values.tolist()\n",
    "    normal_open = openp.values.tolist()\n",
    "\n",
    "    highp = highp.pct_change().replace(np.nan, 0).replace(np.inf, 0).values.tolist()\n",
    "    lowp = lowp.pct_change().replace(np.nan, 0).replace(np.inf, 0).values.tolist()\n",
    "    openp = openp.pct_change().replace(np.nan, 0).replace(np.inf, 0).values.tolist()\n",
    "    closep = closep.pct_change().replace(np.nan, 0).replace(np.inf, 0).values.tolist()\n",
    "    volumep = volumep.pct_change().replace(np.nan, 0).replace(np.inf, 0).values.tolist()\n",
    "\n",
    "    X, Y = [], []\n",
    "    \n",
    "    for i in range(0, len(data), STEP): \n",
    "        try:\n",
    "            o = openp[i:i+LOOKBACK]\n",
    "            h = highp[i:i+LOOKBACK]\n",
    "            l = lowp[i:i+LOOKBACK]\n",
    "            c = closep[i:i+LOOKBACK]\n",
    "            v = volumep[i:i+LOOKBACK]\n",
    "           \n",
    "            y_i = (normal_close[i+LOOKBACK+FORECAST] - normal_open[i+LOOKBACK]) / normal_open[i+LOOKBACK]\n",
    "            y_i = 1 if y_i > 0 else 0\n",
    "            \n",
    "            x_i = np.column_stack((o, h, l, c, v))\n",
    "    \n",
    "        except Exception as e:\n",
    "            break\n",
    "\n",
    "        X.append(x_i)\n",
    "        Y.append(y_i)\n",
    "\n",
    "    X, Y = np.array(X), np.array(Y)\n",
    "    return X, Y"
   ]
  },
  {
   "cell_type": "code",
   "execution_count": 8,
   "metadata": {},
   "outputs": [
    {
     "name": "stderr",
     "output_type": "stream",
     "text": [
      "C:\\Users\\Pedro Takenouchi\\Anaconda3\\lib\\site-packages\\ipykernel_launcher.py:3: DeprecationWarning: \n",
      ".ix is deprecated. Please use\n",
      ".loc for label based indexing or\n",
      ".iloc for positional indexing\n",
      "\n",
      "See the documentation here:\n",
      "http://pandas.pydata.org/pandas-docs/stable/indexing.html#ix-indexer-is-deprecated\n",
      "  This is separate from the ipykernel package so we can avoid doing imports until\n"
     ]
    }
   ],
   "source": [
    "X_train, Y_train = create_dataset(train_set)\n",
    "X_test, Y_test = create_dataset(test_set)"
   ]
  },
  {
   "cell_type": "code",
   "execution_count": 9,
   "metadata": {},
   "outputs": [],
   "source": [
    "def plot_history(history):\n",
    "    plt.subplot(2, 1, 1)\n",
    "    plt.plot(history.history['acc'])\n",
    "    plt.plot(history.history['val_acc'])\n",
    "    plt.axhline(y=0.5, color='grey', linestyle='--')\n",
    "    plt.title('model accuracy')\n",
    "    plt.ylabel('accuracy')\n",
    "    plt.xlabel('epoch')\n",
    "    plt.legend(['train', 'test'], loc='upper left')\n",
    "    plt.show()\n",
    "    plt.subplot(2, 1, 2)\n",
    "    plt.plot(history.history['loss'])\n",
    "    plt.plot(history.history['val_loss'])\n",
    "    plt.axhline(y=0.693, color='grey', linestyle='--')\n",
    "    plt.title('model loss')\n",
    "    plt.ylabel('loss')\n",
    "    plt.xlabel('epoch')\n",
    "    plt.legend(['train', 'test'], loc='upper left')\n",
    "    plt.show()"
   ]
  },
  {
   "cell_type": "code",
   "execution_count": 10,
   "metadata": {},
   "outputs": [],
   "source": [
    "def get_lr_model(x1, x2):\n",
    "    main_input = Input(shape=(x1, x2, ), name='main_input')\n",
    "    x = GaussianNoise(0.01)(main_input)\n",
    "    x = Flatten()(x)\n",
    "    x = BatchNormalization()(x)\n",
    "    x = Dropout(0.5)(x)\n",
    "    output = Dense(1, activation = \"sigmoid\", name = \"out\")(x)\n",
    "    final_model = Model(inputs=[main_input], outputs=[output])\n",
    "    final_model.compile(optimizer=Adam(lr=0.001, amsgrad=True),  loss='binary_crossentropy', metrics = ['accuracy'])\n",
    "    return final_model"
   ]
  },
  {
   "cell_type": "code",
   "execution_count": 11,
   "metadata": {},
   "outputs": [
    {
     "name": "stdout",
     "output_type": "stream",
     "text": [
      "Model: \"model_1\"\n",
      "_________________________________________________________________\n",
      "Layer (type)                 Output Shape              Param #   \n",
      "=================================================================\n",
      "main_input (InputLayer)      (None, 7, 5)              0         \n",
      "_________________________________________________________________\n",
      "gaussian_noise_1 (GaussianNo (None, 7, 5)              0         \n",
      "_________________________________________________________________\n",
      "flatten_1 (Flatten)          (None, 35)                0         \n",
      "_________________________________________________________________\n",
      "batch_normalization_1 (Batch (None, 35)                140       \n",
      "_________________________________________________________________\n",
      "dropout_1 (Dropout)          (None, 35)                0         \n",
      "_________________________________________________________________\n",
      "out (Dense)                  (None, 1)                 36        \n",
      "=================================================================\n",
      "Total params: 176\n",
      "Trainable params: 106\n",
      "Non-trainable params: 70\n",
      "_________________________________________________________________\n",
      "dict_keys(['val_loss', 'val_accuracy', 'loss', 'accuracy', 'lr'])\n"
     ]
    },
    {
     "data": {
      "image/png": "[encoded data removed]",
      "text/plain": [
       "<Figure size 432x288 with 1 Axes>"
      ]
     },
     "metadata": {
      "needs_background": "light"
     },
     "output_type": "display_data"
    },
    {
     "data": {
      "image/png": "[encoded data removed]",
      "text/plain": [
       "<Figure size 432x288 with 1 Axes>"
      ]
     },
     "metadata": {
      "needs_background": "light"
     },
     "output_type": "display_data"
    },
    {
     "name": "stdout",
     "output_type": "stream",
     "text": [
      "MATTHEWS CORRELATION\n",
      "CONFUSION MATRIX\n",
      "[[0.08196721 0.87046632]\n",
      " [0.1147541  0.89119171]]\n",
      "CLASSIFICATION REPORT\n",
      "--------------------\n"
     ]
    },
    {
     "data": {
      "image/png": "[encoded data removed]",
      "text/plain": [
       "<Figure size 432x288 with 1 Axes>"
      ]
     },
     "metadata": {
      "needs_background": "light"
     },
     "output_type": "display_data"
    }
   ],
   "source": [
    "reduce_lr = ReduceLROnPlateau(monitor='val_loss', factor=0.9, patience=50, min_lr=0.000001, verbose=0)\n",
    "checkpointer = ModelCheckpoint(filepath=\"testtest.hdf5\", verbose=0, save_best_only=True)\n",
    "es = EarlyStopping(patience=100)\n",
    "\n",
    "model = get_lr_model(X_train.shape[1], X_train.shape[-1])\n",
    "model.summary()\n",
    "\n",
    "history = model.fit(X_train, Y_train, \n",
    "              epochs = 1000, \n",
    "              batch_size = 64, \n",
    "              verbose=0, \n",
    "              validation_data=(X_test, Y_test),\n",
    "              callbacks=[reduce_lr, checkpointer, es],\n",
    "              shuffle=True)\n",
    "\n",
    "model.load_weights('testtest.hdf5')\n",
    "pred = model.predict(X_test)\n",
    "\n",
    "print(history.history.keys())\n",
    "#  \"Accuracy\"\n",
    "plt.plot(history.history['accuracy'])\n",
    "plt.plot(history.history['val_accuracy'])\n",
    "plt.title('model accuracy')\n",
    "plt.ylabel('accuracy')\n",
    "plt.xlabel('epoch')\n",
    "plt.legend(['train', 'validation'], loc='upper left')\n",
    "plt.show()\n",
    "\n",
    "# \"Loss\"\n",
    "plt.plot(history.history['loss'])\n",
    "plt.plot(history.history['val_loss'])\n",
    "plt.title('model loss')\n",
    "plt.ylabel('loss')\n",
    "plt.xlabel('epoch')\n",
    "plt.legend(['train', 'validation'], loc='upper left')\n",
    "plt.show()\n",
    "\n",
    "\n",
    "#lr\n",
    "plt.plot(history.history['lr'])\n",
    "\n",
    "pred = [1 if p > 0.5 else 0 for p in pred]\n",
    "C = confusion_matrix(Y_test, pred)\n",
    "\n",
    "print ('MATTHEWS CORRELATION')\n",
    "matthews_corrcoef(Y_test, pred)\n",
    "print ('CONFUSION MATRIX')\n",
    "print(C / C.astype(np.float).sum(axis=1))\n",
    "print ('CLASSIFICATION REPORT')\n",
    "classification_report(Y_test, pred)\n",
    "print ('-' * 20)"
   ]
  },
  {
   "cell_type": "code",
   "execution_count": 12,
   "metadata": {},
   "outputs": [],
   "source": [
    "pred = [1 if p == 1 else -1 for p in pred]\n",
    "pred = [p if i % FORECAST == 0 else 0 for i, p in enumerate(pred)]\n",
    "pred = [0.] * (LOOKBACK) + pred + [0] * FORECAST"
   ]
  },
  {
   "cell_type": "code",
   "execution_count": 13,
   "metadata": {},
   "outputs": [],
   "source": [
    "class MachineLearningForecastingStrategy(Strategy):   \n",
    "    \n",
    "    def __init__(self, symbol, bars, pred):\n",
    "        self.symbol = symbol\n",
    "        self.bars = bars\n",
    "\n",
    "    def generate_signals(self):\n",
    "        signals = pd.DataFrame(index=self.bars.index)\n",
    "        signals['signal'] = pred\n",
    "        return signals"
   ]
  },
  {
   "cell_type": "code",
   "execution_count": 14,
   "metadata": {},
   "outputs": [
    {
     "name": "stderr",
     "output_type": "stream",
     "text": [
      "C:\\Users\\Pedro Takenouchi\\Anaconda3\\lib\\site-packages\\ipykernel_launcher.py:2: SettingWithCopyWarning: \n",
      "A value is trying to be set on a copy of a slice from a DataFrame.\n",
      "Try using .loc[row_indexer,col_indexer] = value instead\n",
      "\n",
      "See the caveats in the documentation: http://pandas.pydata.org/pandas-docs/stable/indexing.html#indexing-view-versus-copy\n",
      "  \n"
     ]
    }
   ],
   "source": [
    "test_set['Close'] = test_set['Close'].shift(-FORECAST)\n",
    "\n",
    "rfs = MachineLearningForecastingStrategy('LTC', test_set, pred)\n",
    "signals = rfs.generate_signals()\n",
    "portfolio = MarketIntradayPortfolio('LTC', test_set, signals, INIT_CAPITAL, STAKE)\n",
    "returns = portfolio.backtest_portfolio()"
   ]
  },
  {
   "cell_type": "code",
   "execution_count": 15,
   "metadata": {},
   "outputs": [],
   "source": [
    "returns['signal'] = signals\n",
    "our_pct_growth = returns['total'].pct_change().cumsum()\n",
    "benchmark_ptc_growth = test_set['Close'].pct_change().cumsum()"
   ]
  },
  {
   "cell_type": "code",
   "execution_count": 16,
   "metadata": {},
   "outputs": [
    {
     "data": {
      "image/png": "[encoded data removed]",
      "text/plain": [
       "<Figure size 432x288 with 1 Axes>"
      ]
     },
     "metadata": {
      "needs_background": "light"
     },
     "output_type": "display_data"
    }
   ],
   "source": [
    "plt.figure()\n",
    "plt.plot(returns['total'])\n",
    "plt.show()"
   ]
  },
  {
   "cell_type": "code",
   "execution_count": 17,
   "metadata": {},
   "outputs": [
    {
     "data": {
      "image/png": "[encoded data removed]",
      "text/plain": [
       "<Figure size 432x288 with 1 Axes>"
      ]
     },
     "metadata": {
      "needs_background": "light"
     },
     "output_type": "display_data"
    }
   ],
   "source": [
    "plt.figure()\n",
    "plt.plot(our_pct_growth, label = 'ML long/short strategy', linewidth=2)\n",
    "plt.plot(benchmark_ptc_growth, linestyle = '--', label = 'Buy and hold strategy', linewidth=2)\n",
    "plt.legend()\n",
    "plt.show()"
   ]
  },
  {
   "cell_type": "code",
   "execution_count": 18,
   "metadata": {},
   "outputs": [],
   "source": [
    "def sharpe(returns):\n",
    "    return np.sqrt(len(returns)) * returns.mean() / returns.std()"
   ]
  },
  {
   "cell_type": "code",
   "execution_count": 19,
   "metadata": {},
   "outputs": [
    {
     "data": {
      "text/plain": [
       "-1.7242623370310148"
      ]
     },
     "execution_count": 19,
     "metadata": {},
     "output_type": "execute_result"
    }
   ],
   "source": [
    "sharpe(our_pct_growth)"
   ]
  },
  {
   "cell_type": "code",
   "execution_count": 20,
   "metadata": {},
   "outputs": [
    {
     "data": {
      "text/plain": [
       "22.175485513988672"
      ]
     },
     "execution_count": 20,
     "metadata": {},
     "output_type": "execute_result"
    }
   ],
   "source": [
    "sharpe(benchmark_ptc_growth)"
   ]
  },
  {
   "cell_type": "code",
   "execution_count": 21,
   "metadata": {},
   "outputs": [
    {
     "data": {
      "text/html": [
       "<div>\n",
       "<style scoped>\n",
       "    .dataframe tbody tr th:only-of-type {\n",
       "        vertical-align: middle;\n",
       "    }\n",
       "\n",
       "    .dataframe tbody tr th {\n",
       "        vertical-align: top;\n",
       "    }\n",
       "\n",
       "    .dataframe thead th {\n",
       "        text-align: right;\n",
       "    }\n",
       "</style>\n",
       "<table border=\"1\" class=\"dataframe\">\n",
       "  <thead>\n",
       "    <tr style=\"text-align: right;\">\n",
       "      <th></th>\n",
       "      <th>price_diff</th>\n",
       "      <th>profit</th>\n",
       "      <th>total</th>\n",
       "      <th>returns</th>\n",
       "      <th>signal</th>\n",
       "    </tr>\n",
       "  </thead>\n",
       "  <tbody>\n",
       "    <tr>\n",
       "      <th>1917</th>\n",
       "      <td>-0.030029</td>\n",
       "      <td>-0.30029</td>\n",
       "      <td>-1425.89615</td>\n",
       "      <td>0.000211</td>\n",
       "      <td>1.0</td>\n",
       "    </tr>\n",
       "    <tr>\n",
       "      <th>1918</th>\n",
       "      <td>38.380005</td>\n",
       "      <td>383.80005</td>\n",
       "      <td>-1042.09610</td>\n",
       "      <td>-0.269164</td>\n",
       "      <td>1.0</td>\n",
       "    </tr>\n",
       "    <tr>\n",
       "      <th>1919</th>\n",
       "      <td>46.859985</td>\n",
       "      <td>468.59985</td>\n",
       "      <td>-573.49625</td>\n",
       "      <td>-0.449670</td>\n",
       "      <td>1.0</td>\n",
       "    </tr>\n",
       "    <tr>\n",
       "      <th>1920</th>\n",
       "      <td>-12.530029</td>\n",
       "      <td>125.30029</td>\n",
       "      <td>-448.19596</td>\n",
       "      <td>-0.218485</td>\n",
       "      <td>-1.0</td>\n",
       "    </tr>\n",
       "    <tr>\n",
       "      <th>1921</th>\n",
       "      <td>NaN</td>\n",
       "      <td>NaN</td>\n",
       "      <td>NaN</td>\n",
       "      <td>NaN</td>\n",
       "      <td>0.0</td>\n",
       "    </tr>\n",
       "  </tbody>\n",
       "</table>\n",
       "</div>"
      ],
      "text/plain": [
       "      price_diff     profit       total   returns  signal\n",
       "1917   -0.030029   -0.30029 -1425.89615  0.000211     1.0\n",
       "1918   38.380005  383.80005 -1042.09610 -0.269164     1.0\n",
       "1919   46.859985  468.59985  -573.49625 -0.449670     1.0\n",
       "1920  -12.530029  125.30029  -448.19596 -0.218485    -1.0\n",
       "1921         NaN        NaN         NaN       NaN     0.0"
      ]
     },
     "execution_count": 21,
     "metadata": {},
     "output_type": "execute_result"
    }
   ],
   "source": [
    "returns.tail()"
   ]
  },
  {
   "cell_type": "code",
   "execution_count": null,
   "metadata": {},
   "outputs": [],
   "source": []
  },
  {
   "cell_type": "code",
   "execution_count": null,
   "metadata": {},
   "outputs": [],
   "source": []
  },
  {
   "cell_type": "code",
   "execution_count": null,
   "metadata": {},
   "outputs": [],
   "source": []
  }
 ],
 "metadata": {
  "kernelspec": {
   "display_name": "Python 3",
   "language": "python",
   "name": "python3"
  },
  "language_info": {
   "codemirror_mode": {
    "name": "ipython",
    "version": 3
   },
   "file_extension": ".py",
   "mimetype": "text/x-python",
   "name": "python",
   "nbconvert_exporter": "python",
   "pygments_lexer": "ipython3",
   "version": "3.6.5"
  }
 },
 "nbformat": 4,
 "nbformat_minor": 2
}
