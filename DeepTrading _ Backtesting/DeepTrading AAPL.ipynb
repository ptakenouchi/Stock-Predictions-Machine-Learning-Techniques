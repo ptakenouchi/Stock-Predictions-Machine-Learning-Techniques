{
 "cells": [
  {
   "cell_type": "code",
   "execution_count": 1,
   "metadata": {},
   "outputs": [
    {
     "name": "stderr",
     "output_type": "stream",
     "text": [
      "Using TensorFlow backend.\n"
     ]
    }
   ],
   "source": [
    "import keras\n",
    "from backtest import *\n",
    "import numpy as np\n",
    "import pandas as pd\n",
    "import matplotlib.pylab as plt\n",
    "\n",
    "from keras.models import Sequential\n",
    "from keras.models import Model\n",
    "from keras.layers.core import Dense, Dropout, Activation, Flatten, Permute, Reshape\n",
    "from keras.layers import Input, concatenate, GaussianNoise\n",
    "from keras.layers.recurrent import LSTM, GRU, SimpleRNN\n",
    "from keras.layers import Convolution1D, MaxPooling1D, GlobalAveragePooling1D, GlobalMaxPooling1D, RepeatVector, AveragePooling1D\n",
    "from keras.callbacks import ModelCheckpoint, ReduceLROnPlateau, CSVLogger, EarlyStopping\n",
    "from keras.layers.wrappers import Bidirectional, TimeDistributed\n",
    "from keras import regularizers\n",
    "from keras.layers.normalization import BatchNormalization\n",
    "from keras.layers.advanced_activations import *\n",
    "from keras.optimizers import RMSprop, Adam, SGD, Nadam\n",
    "from keras.initializers import *\n",
    "from keras.constraints import *\n",
    "from keras import regularizers\n",
    "from keras import losses\n",
    "\n",
    "from sklearn.metrics import r2_score\n",
    "from sklearn.metrics import confusion_matrix\n",
    "from sklearn.metrics import classification_report\n",
    "from sklearn.metrics import matthews_corrcoef"
   ]
  },
  {
   "cell_type": "code",
   "execution_count": 2,
   "metadata": {},
   "outputs": [],
   "source": [
    "symbol = 'AAPL'\n",
    "bars = pd.read_csv('./data/%s.csv' % symbol, header=0, parse_dates=['Date'])"
   ]
  },
  {
   "cell_type": "code",
   "execution_count": 3,
   "metadata": {},
   "outputs": [
    {
     "name": "stdout",
     "output_type": "stream",
     "text": [
      "      Unnamed: 0       Close       Date        High         Low        Open  \\\n",
      "0              0   75.768570 2012-05-18   74.597145   77.629997   76.279999   \n",
      "1              1   80.182854 2012-05-21   76.292854   80.220001   76.357140   \n",
      "2              2   79.567146 2012-05-22   78.940002   81.982857   81.364288   \n",
      "3              3   81.508568 2012-05-23   79.032860   81.828575   79.642860   \n",
      "4              4   80.760002 2012-05-24   80.175713   82.357140   82.267143   \n",
      "5              5   80.327141 2012-05-25   79.781425   80.835716   80.655716   \n",
      "6              6   81.752853 2012-05-29   80.758568   82.000000   81.557144   \n",
      "7              7   82.738571 2012-05-30   80.937141   82.855713   81.314285   \n",
      "8              8   82.532860 2012-05-31   81.637146   83.071426   82.962860   \n",
      "9              9   80.141426 2012-06-01   80.074287   81.807144   81.308571   \n",
      "10            10   80.612854 2012-06-04   78.357140   81.071426   80.214287   \n",
      "11            11   80.404289 2012-06-05   79.761429   80.924286   80.181427   \n",
      "12            12   81.637146 2012-06-06   80.785713   81.978569   81.110001   \n",
      "13            13   81.674286 2012-06-07   81.500000   82.474289   82.470001   \n",
      "14            14   82.902855 2012-06-08   81.285713   82.940002   81.657143   \n",
      "15            15   81.595711 2012-06-11   81.518570   84.071426   83.959999   \n",
      "16            16   82.308571 2012-06-12   80.957146   82.374283   82.065712   \n",
      "17            17   81.737144 2012-06-13   81.482857   82.639999   82.074287   \n",
      "18            18   81.647141 2012-06-14   81.037140   81.928574   81.605713   \n",
      "19            19   82.018570 2012-06-15   81.364288   82.088570   81.571426   \n",
      "20            20   83.682854 2012-06-18   81.481430   83.984283   81.565712   \n",
      "21            21   83.915718 2012-06-19   83.300003   84.285713   83.342857   \n",
      "22            22   83.677139 2012-06-20   82.971428   84.178574   84.029999   \n",
      "23            23   82.524284 2012-06-21   82.491432   84.031425   83.634285   \n",
      "24            24   83.157143 2012-06-22   82.202858   83.169998   82.720001   \n",
      "25            25   81.538574 2012-06-25   81.481430   82.828575   82.471428   \n",
      "26            26   81.718575 2012-06-26   81.047142   82.070000   81.618568   \n",
      "27            27   82.071426 2012-06-27   81.702858   82.391426   82.142860   \n",
      "28            28   81.292854 2012-06-28   80.801430   82.000000   81.667145   \n",
      "29            29   83.428574 2012-06-29   82.035713   83.428574   82.571426   \n",
      "...          ...         ...        ...         ...         ...         ...   \n",
      "1893        1893  264.290008 2019-11-26  262.500000  267.160004  266.940002   \n",
      "1894        1894  267.839996 2019-11-27  265.309998  267.980011  265.579987   \n",
      "1895        1895  267.250000 2019-11-29  265.899994  268.000000  266.600006   \n",
      "1896        1896  264.160004 2019-12-02  263.450012  268.250000  267.269989   \n",
      "1897        1897  259.450012 2019-12-03  256.290008  259.529999  258.309998   \n",
      "1898        1898  261.739990 2019-12-04  260.679993  263.309998  261.070007   \n",
      "1899        1899  265.579987 2019-12-05  262.730011  265.890015  263.790008   \n",
      "1900        1900  270.709992 2019-12-06  267.299988  271.000000  267.480011   \n",
      "1901        1901  266.920013 2019-12-09  264.910004  270.799988  270.000000   \n",
      "1902        1902  268.480011 2019-12-10  265.859985  270.070007  268.600006   \n",
      "1903        1903  270.769989 2019-12-11  268.500000  271.100006  268.809998   \n",
      "1904        1904  271.459992 2019-12-12  267.320007  272.559998  267.779999   \n",
      "1905        1905  275.149994 2019-12-13  270.929993  275.299988  271.459992   \n",
      "1906        1906  279.859985 2019-12-16  276.980011  280.790008  277.000000   \n",
      "1907        1907  280.410004 2019-12-17  278.799988  281.769989  279.570007   \n",
      "1908        1908  279.739990 2019-12-18  279.119995  281.899994  279.799988   \n",
      "1909        1909  280.019989 2019-12-19  278.950012  281.179993  279.500000   \n",
      "1910        1910  279.440002 2019-12-20  278.559998  282.649994  282.230011   \n",
      "1911        1911  284.000000 2019-12-23  280.369995  284.250000  280.529999   \n",
      "1912        1912  284.269989 2019-12-24  282.920013  284.890015  284.690002   \n",
      "1913        1913  289.910004 2019-12-26  284.700012  289.980011  284.820007   \n",
      "1914        1914  289.799988 2019-12-27  288.119995  293.970001  291.119995   \n",
      "1915        1915  291.519989 2019-12-30  285.220001  292.690002  289.459992   \n",
      "1916        1916  293.649994 2019-12-31  289.519989  293.679993  289.929993   \n",
      "1917        1917  300.350006 2020-01-02  295.190002  300.600006  296.239990   \n",
      "1918        1918  297.429993 2020-01-03  296.500000  300.579987  297.149994   \n",
      "1919        1919  299.799988 2020-01-06  292.750000  299.959992  293.790008   \n",
      "1920        1920  298.390015 2020-01-07  297.480011  300.899994  299.839996   \n",
      "1921        1921  303.190002 2020-01-08  297.160004  304.440002  297.160004   \n",
      "1922        1922  309.630005 2020-01-09  306.200012  310.429993  307.239990   \n",
      "\n",
      "         Volume  \n",
      "0     183073100  \n",
      "1     157776500  \n",
      "2     173717600  \n",
      "3     146224400  \n",
      "4     124057500  \n",
      "5      82126800  \n",
      "6      95127200  \n",
      "7     132357400  \n",
      "8     122918600  \n",
      "9     130246900  \n",
      "10    139248900  \n",
      "11     97053600  \n",
      "12    100363900  \n",
      "13     94941700  \n",
      "14     86879100  \n",
      "15    147816200  \n",
      "16    108845100  \n",
      "17     73395000  \n",
      "18     86393300  \n",
      "19     83813800  \n",
      "20    110103000  \n",
      "21     90351100  \n",
      "22     89735800  \n",
      "23     81587800  \n",
      "24     71117900  \n",
      "25     76095600  \n",
      "26     69134100  \n",
      "27     50749300  \n",
      "28     70709100  \n",
      "29    105375200  \n",
      "...         ...  \n",
      "1893   26301900  \n",
      "1894   16308900  \n",
      "1895   11654400  \n",
      "1896   23621800  \n",
      "1897   28607600  \n",
      "1898   16795400  \n",
      "1899   18606100  \n",
      "1900   26518900  \n",
      "1901   32010600  \n",
      "1902   22605100  \n",
      "1903   19689200  \n",
      "1904   34327600  \n",
      "1905   33396900  \n",
      "1906   32046500  \n",
      "1907   28539600  \n",
      "1908   29007100  \n",
      "1909   24592300  \n",
      "1910   68994500  \n",
      "1911   24643000  \n",
      "1912   12119700  \n",
      "1913   23280300  \n",
      "1914   36566500  \n",
      "1915   36028600  \n",
      "1916   25201400  \n",
      "1917   33870100  \n",
      "1918   36580700  \n",
      "1919   29596800  \n",
      "1920   27218000  \n",
      "1921   33019800  \n",
      "1922   42527100  \n",
      "\n",
      "[1923 rows x 7 columns]\n"
     ]
    }
   ],
   "source": [
    "print(bars)"
   ]
  },
  {
   "cell_type": "code",
   "execution_count": 4,
   "metadata": {},
   "outputs": [],
   "source": [
    "START_TRAIN_DATE = '2012-05-18'\n",
    "END_TRAIN_DATE = '2018-06-27'\n",
    "START_TEST_DATE = '2018-06-28'\n",
    "END_TEST_DATE = '2020-01-09'\n",
    "LOOKBACK = 7\n",
    "STEP = 1\n",
    "FORECAST = 1\n",
    "INIT_CAPITAL = 10000\n",
    "STAKE = 10"
   ]
  },
  {
   "cell_type": "code",
   "execution_count": 5,
   "metadata": {},
   "outputs": [],
   "source": [
    "train_set = bars[(bars['Date'] > START_TRAIN_DATE) & (bars['Date'] < END_TRAIN_DATE)]"
   ]
  },
  {
   "cell_type": "code",
   "execution_count": 6,
   "metadata": {},
   "outputs": [],
   "source": [
    "test_set = bars[(bars['Date'] > START_TEST_DATE) & (bars['Date'] < END_TEST_DATE)]"
   ]
  },
  {
   "cell_type": "code",
   "execution_count": 7,
   "metadata": {},
   "outputs": [],
   "source": [
    "def create_dataset(data):\n",
    "    \n",
    "    highp = pd.to_numeric(data.ix[:, 'High'])\n",
    "    lowp = pd.to_numeric(data.ix[:, 'Low'])\n",
    "    openp = pd.to_numeric(data.ix[:, 'Open'])\n",
    "    closep = pd.to_numeric(data.ix[:, 'Close'])\n",
    "    volumep = pd.to_numeric(data.ix[:, 'Volume'])\n",
    "\n",
    "    normal_close = closep.values.tolist()\n",
    "    normal_open = openp.values.tolist()\n",
    "\n",
    "    highp = highp.pct_change().replace(np.nan, 0).replace(np.inf, 0).values.tolist()\n",
    "    lowp = lowp.pct_change().replace(np.nan, 0).replace(np.inf, 0).values.tolist()\n",
    "    openp = openp.pct_change().replace(np.nan, 0).replace(np.inf, 0).values.tolist()\n",
    "    closep = closep.pct_change().replace(np.nan, 0).replace(np.inf, 0).values.tolist()\n",
    "    volumep = volumep.pct_change().replace(np.nan, 0).replace(np.inf, 0).values.tolist()\n",
    "\n",
    "    X, Y = [], []\n",
    "    \n",
    "    for i in range(0, len(data), STEP): \n",
    "        try:\n",
    "            o = openp[i:i+LOOKBACK]\n",
    "            h = highp[i:i+LOOKBACK]\n",
    "            l = lowp[i:i+LOOKBACK]\n",
    "            c = closep[i:i+LOOKBACK]\n",
    "            v = volumep[i:i+LOOKBACK]\n",
    "           \n",
    "            y_i = (normal_close[i+LOOKBACK+FORECAST] - normal_open[i+LOOKBACK]) / normal_open[i+LOOKBACK]\n",
    "            y_i = 1 if y_i > 0 else 0\n",
    "            \n",
    "            x_i = np.column_stack((o, h, l, c, v))\n",
    "    \n",
    "        except Exception as e:\n",
    "            break\n",
    "\n",
    "        X.append(x_i)\n",
    "        Y.append(y_i)\n",
    "\n",
    "    X, Y = np.array(X), np.array(Y)\n",
    "    return X, Y"
   ]
  },
  {
   "cell_type": "code",
   "execution_count": 8,
   "metadata": {},
   "outputs": [
    {
     "name": "stderr",
     "output_type": "stream",
     "text": [
      "C:\\Users\\Pedro Takenouchi\\Anaconda3\\lib\\site-packages\\ipykernel_launcher.py:3: DeprecationWarning: \n",
      ".ix is deprecated. Please use\n",
      ".loc for label based indexing or\n",
      ".iloc for positional indexing\n",
      "\n",
      "See the documentation here:\n",
      "http://pandas.pydata.org/pandas-docs/stable/indexing.html#ix-indexer-is-deprecated\n",
      "  This is separate from the ipykernel package so we can avoid doing imports until\n"
     ]
    }
   ],
   "source": [
    "X_train, Y_train = create_dataset(train_set)\n",
    "X_test, Y_test = create_dataset(test_set)"
   ]
  },
  {
   "cell_type": "code",
   "execution_count": 9,
   "metadata": {},
   "outputs": [],
   "source": [
    "def plot_history(history):\n",
    "    plt.subplot(2, 1, 1)\n",
    "    plt.plot(history.history['acc'])\n",
    "    plt.plot(history.history['val_acc'])\n",
    "    plt.axhline(y=0.5, color='grey', linestyle='--')\n",
    "    plt.title('model accuracy')\n",
    "    plt.ylabel('accuracy')\n",
    "    plt.xlabel('epoch')\n",
    "    plt.legend(['train', 'test'], loc='upper left')\n",
    "    plt.show()\n",
    "    plt.subplot(2, 1, 2)\n",
    "    plt.plot(history.history['loss'])\n",
    "    plt.plot(history.history['val_loss'])\n",
    "    plt.axhline(y=0.693, color='grey', linestyle='--')\n",
    "    plt.title('model loss')\n",
    "    plt.ylabel('loss')\n",
    "    plt.xlabel('epoch')\n",
    "    plt.legend(['train', 'test'], loc='upper left')\n",
    "    plt.show()"
   ]
  },
  {
   "cell_type": "code",
   "execution_count": 10,
   "metadata": {},
   "outputs": [],
   "source": [
    "def get_lr_model(x1, x2):\n",
    "    main_input = Input(shape=(x1, x2, ), name='main_input')\n",
    "    x = GaussianNoise(0.01)(main_input)\n",
    "    x = Flatten()(x)\n",
    "    x = BatchNormalization()(x)\n",
    "    x = Dropout(0.5)(x)\n",
    "    output = Dense(1, activation = \"sigmoid\", name = \"out\")(x)\n",
    "    final_model = Model(inputs=[main_input], outputs=[output])\n",
    "    final_model.compile(optimizer=Adam(lr=0.001, amsgrad=True),  loss='binary_crossentropy', metrics = ['accuracy'])\n",
    "    return final_model"
   ]
  },
  {
   "cell_type": "code",
   "execution_count": 11,
   "metadata": {},
   "outputs": [
    {
     "name": "stdout",
     "output_type": "stream",
     "text": [
      "Model: \"model_1\"\n",
      "_________________________________________________________________\n",
      "Layer (type)                 Output Shape              Param #   \n",
      "=================================================================\n",
      "main_input (InputLayer)      (None, 7, 5)              0         \n",
      "_________________________________________________________________\n",
      "gaussian_noise_1 (GaussianNo (None, 7, 5)              0         \n",
      "_________________________________________________________________\n",
      "flatten_1 (Flatten)          (None, 35)                0         \n",
      "_________________________________________________________________\n",
      "batch_normalization_1 (Batch (None, 35)                140       \n",
      "_________________________________________________________________\n",
      "dropout_1 (Dropout)          (None, 35)                0         \n",
      "_________________________________________________________________\n",
      "out (Dense)                  (None, 1)                 36        \n",
      "=================================================================\n",
      "Total params: 176\n",
      "Trainable params: 106\n",
      "Non-trainable params: 70\n",
      "_________________________________________________________________\n",
      "dict_keys(['val_loss', 'val_accuracy', 'loss', 'accuracy', 'lr'])\n"
     ]
    },
    {
     "data": {
      "image/png": "[encoded data removed]",
      "text/plain": [
       "<Figure size 432x288 with 1 Axes>"
      ]
     },
     "metadata": {
      "needs_background": "light"
     },
     "output_type": "display_data"
    },
    {
     "data": {
      "image/png": "[encoded data removed]",
      "text/plain": [
       "<Figure size 432x288 with 1 Axes>"
      ]
     },
     "metadata": {
      "needs_background": "light"
     },
     "output_type": "display_data"
    },
    {
     "name": "stdout",
     "output_type": "stream",
     "text": [
      "MATTHEWS CORRELATION\n",
      "CONFUSION MATRIX\n",
      "[[0.23684211 0.51785714]\n",
      " [0.26973684 0.81696429]]\n",
      "CLASSIFICATION REPORT\n",
      "--------------------\n"
     ]
    },
    {
     "data": {
      "image/png": "[encoded data removed]",
      "text/plain": [
       "<Figure size 432x288 with 1 Axes>"
      ]
     },
     "metadata": {
      "needs_background": "light"
     },
     "output_type": "display_data"
    }
   ],
   "source": [
    "reduce_lr = ReduceLROnPlateau(monitor='val_loss', factor=0.9, patience=50, min_lr=0.000001, verbose=0)\n",
    "checkpointer = ModelCheckpoint(filepath=\"testtest.hdf5\", verbose=0, save_best_only=True)\n",
    "es = EarlyStopping(patience=100)\n",
    "\n",
    "model = get_lr_model(X_train.shape[1], X_train.shape[-1])\n",
    "model.summary()\n",
    "\n",
    "history = model.fit(X_train, Y_train, \n",
    "              epochs = 1000, \n",
    "              batch_size = 64, \n",
    "              verbose=0, \n",
    "              validation_data=(X_test, Y_test),\n",
    "              callbacks=[reduce_lr, checkpointer, es],\n",
    "              shuffle=True)\n",
    "\n",
    "model.load_weights('testtest.hdf5')\n",
    "pred = model.predict(X_test)\n",
    "\n",
    "print(history.history.keys())\n",
    "#  \"Accuracy\"\n",
    "plt.plot(history.history['accuracy'])\n",
    "plt.plot(history.history['val_accuracy'])\n",
    "plt.title('model accuracy')\n",
    "plt.ylabel('accuracy')\n",
    "plt.xlabel('epoch')\n",
    "plt.legend(['train', 'validation'], loc='upper left')\n",
    "plt.show()\n",
    "\n",
    "# \"Loss\"\n",
    "plt.plot(history.history['loss'])\n",
    "plt.plot(history.history['val_loss'])\n",
    "plt.title('model loss')\n",
    "plt.ylabel('loss')\n",
    "plt.xlabel('epoch')\n",
    "plt.legend(['train', 'validation'], loc='upper left')\n",
    "plt.show()\n",
    "\n",
    "\n",
    "#lr\n",
    "plt.plot(history.history['lr'])\n",
    "\n",
    "pred = [1 if p > 0.5 else 0 for p in pred]\n",
    "C = confusion_matrix(Y_test, pred)\n",
    "\n",
    "print ('MATTHEWS CORRELATION')\n",
    "matthews_corrcoef(Y_test, pred)\n",
    "print ('CONFUSION MATRIX')\n",
    "print(C / C.astype(np.float).sum(axis=1))\n",
    "print ('CLASSIFICATION REPORT')\n",
    "classification_report(Y_test, pred)\n",
    "print ('-' * 20)"
   ]
  },
  {
   "cell_type": "code",
   "execution_count": 12,
   "metadata": {},
   "outputs": [],
   "source": [
    "pred = [1 if p == 1 else -1 for p in pred] \n",
    "pred = [p if i % FORECAST == 0 else 0 for i, p in enumerate(pred)]\n",
    "pred = [0.] * (LOOKBACK) + pred + [0] * FORECAST"
   ]
  },
  {
   "cell_type": "code",
   "execution_count": 13,
   "metadata": {},
   "outputs": [],
   "source": [
    "class MachineLearningForecastingStrategy(Strategy):   \n",
    "    \n",
    "    def __init__(self, symbol, bars, pred):\n",
    "        self.symbol = symbol\n",
    "        self.bars = bars\n",
    "\n",
    "    def generate_signals(self):\n",
    "        signals = pd.DataFrame(index=self.bars.index)\n",
    "        signals['signal'] = pred\n",
    "        return signals"
   ]
  },
  {
   "cell_type": "code",
   "execution_count": 14,
   "metadata": {},
   "outputs": [
    {
     "name": "stderr",
     "output_type": "stream",
     "text": [
      "C:\\Users\\Pedro Takenouchi\\Anaconda3\\lib\\site-packages\\ipykernel_launcher.py:2: SettingWithCopyWarning: \n",
      "A value is trying to be set on a copy of a slice from a DataFrame.\n",
      "Try using .loc[row_indexer,col_indexer] = value instead\n",
      "\n",
      "See the caveats in the documentation: http://pandas.pydata.org/pandas-docs/stable/indexing.html#indexing-view-versus-copy\n",
      "  \n"
     ]
    }
   ],
   "source": [
    "test_set['Close'] = test_set['Close'].shift(-FORECAST)\n",
    "\n",
    "rfs = MachineLearningForecastingStrategy('LTC', test_set, pred)\n",
    "signals = rfs.generate_signals()\n",
    "portfolio = MarketIntradayPortfolio('LTC', test_set, signals, INIT_CAPITAL, STAKE)\n",
    "returns = portfolio.backtest_portfolio()"
   ]
  },
  {
   "cell_type": "code",
   "execution_count": 15,
   "metadata": {},
   "outputs": [],
   "source": [
    "returns['signal'] = signals\n",
    "our_pct_growth = returns['total'].pct_change().cumsum()\n",
    "benchmark_ptc_growth = test_set['Close'].pct_change().cumsum()"
   ]
  },
  {
   "cell_type": "code",
   "execution_count": 16,
   "metadata": {},
   "outputs": [
    {
     "data": {
      "image/png": "[encoded data removed]",
      "text/plain": [
       "<Figure size 432x288 with 1 Axes>"
      ]
     },
     "metadata": {
      "needs_background": "light"
     },
     "output_type": "display_data"
    }
   ],
   "source": [
    "plt.figure()\n",
    "plt.plot(returns['total'])\n",
    "plt.show()"
   ]
  },
  {
   "cell_type": "code",
   "execution_count": 17,
   "metadata": {},
   "outputs": [
    {
     "data": {
      "image/png": "[encoded data removed]",
      "text/plain": [
       "<Figure size 432x288 with 1 Axes>"
      ]
     },
     "metadata": {
      "needs_background": "light"
     },
     "output_type": "display_data"
    }
   ],
   "source": [
    "plt.figure()\n",
    "plt.plot(our_pct_growth, label = 'ML long/short strategy', linewidth=2)\n",
    "plt.plot(benchmark_ptc_growth, linestyle = '--', label = 'Buy and hold strategy', linewidth=2)\n",
    "plt.legend()\n",
    "plt.show()"
   ]
  },
  {
   "cell_type": "code",
   "execution_count": 18,
   "metadata": {},
   "outputs": [],
   "source": [
    "def sharpe(returns):\n",
    "    return np.sqrt(len(returns)) * returns.mean() / returns.std()"
   ]
  },
  {
   "cell_type": "code",
   "execution_count": 19,
   "metadata": {},
   "outputs": [
    {
     "data": {
      "text/plain": [
       "5.937745639935184"
      ]
     },
     "execution_count": 19,
     "metadata": {},
     "output_type": "execute_result"
    }
   ],
   "source": [
    "sharpe(our_pct_growth)"
   ]
  },
  {
   "cell_type": "code",
   "execution_count": 20,
   "metadata": {},
   "outputs": [
    {
     "data": {
      "text/plain": [
       "15.149017672553194"
      ]
     },
     "execution_count": 20,
     "metadata": {},
     "output_type": "execute_result"
    }
   ],
   "source": [
    "sharpe(benchmark_ptc_growth)"
   ]
  },
  {
   "cell_type": "code",
   "execution_count": 21,
   "metadata": {},
   "outputs": [
    {
     "data": {
      "text/html": [
       "<div>\n",
       "<style scoped>\n",
       "    .dataframe tbody tr th:only-of-type {\n",
       "        vertical-align: middle;\n",
       "    }\n",
       "\n",
       "    .dataframe tbody tr th {\n",
       "        vertical-align: top;\n",
       "    }\n",
       "\n",
       "    .dataframe thead th {\n",
       "        text-align: right;\n",
       "    }\n",
       "</style>\n",
       "<table border=\"1\" class=\"dataframe\">\n",
       "  <thead>\n",
       "    <tr style=\"text-align: right;\">\n",
       "      <th></th>\n",
       "      <th>price_diff</th>\n",
       "      <th>profit</th>\n",
       "      <th>total</th>\n",
       "      <th>returns</th>\n",
       "      <th>signal</th>\n",
       "    </tr>\n",
       "  </thead>\n",
       "  <tbody>\n",
       "    <tr>\n",
       "      <th>1917</th>\n",
       "      <td>1.190002</td>\n",
       "      <td>11.900025</td>\n",
       "      <td>11296.900787</td>\n",
       "      <td>0.001054</td>\n",
       "      <td>1.0</td>\n",
       "    </tr>\n",
       "    <tr>\n",
       "      <th>1918</th>\n",
       "      <td>2.649994</td>\n",
       "      <td>26.499939</td>\n",
       "      <td>11323.400726</td>\n",
       "      <td>0.002346</td>\n",
       "      <td>1.0</td>\n",
       "    </tr>\n",
       "    <tr>\n",
       "      <th>1919</th>\n",
       "      <td>4.600006</td>\n",
       "      <td>46.000061</td>\n",
       "      <td>11369.400787</td>\n",
       "      <td>0.004062</td>\n",
       "      <td>1.0</td>\n",
       "    </tr>\n",
       "    <tr>\n",
       "      <th>1920</th>\n",
       "      <td>3.350006</td>\n",
       "      <td>33.500061</td>\n",
       "      <td>11402.900848</td>\n",
       "      <td>0.002947</td>\n",
       "      <td>1.0</td>\n",
       "    </tr>\n",
       "    <tr>\n",
       "      <th>1921</th>\n",
       "      <td>NaN</td>\n",
       "      <td>NaN</td>\n",
       "      <td>NaN</td>\n",
       "      <td>NaN</td>\n",
       "      <td>0.0</td>\n",
       "    </tr>\n",
       "  </tbody>\n",
       "</table>\n",
       "</div>"
      ],
      "text/plain": [
       "      price_diff     profit         total   returns  signal\n",
       "1917    1.190002  11.900025  11296.900787  0.001054     1.0\n",
       "1918    2.649994  26.499939  11323.400726  0.002346     1.0\n",
       "1919    4.600006  46.000061  11369.400787  0.004062     1.0\n",
       "1920    3.350006  33.500061  11402.900848  0.002947     1.0\n",
       "1921         NaN        NaN           NaN       NaN     0.0"
      ]
     },
     "execution_count": 21,
     "metadata": {},
     "output_type": "execute_result"
    }
   ],
   "source": [
    "returns.tail()"
   ]
  },
  {
   "cell_type": "code",
   "execution_count": null,
   "metadata": {},
   "outputs": [],
   "source": []
  },
  {
   "cell_type": "code",
   "execution_count": null,
   "metadata": {},
   "outputs": [],
   "source": []
  },
  {
   "cell_type": "code",
   "execution_count": null,
   "metadata": {},
   "outputs": [],
   "source": []
  }
 ],
 "metadata": {
  "kernelspec": {
   "display_name": "Python 3",
   "language": "python",
   "name": "python3"
  },
  "language_info": {
   "codemirror_mode": {
    "name": "ipython",
    "version": 3
   },
   "file_extension": ".py",
   "mimetype": "text/x-python",
   "name": "python",
   "nbconvert_exporter": "python",
   "pygments_lexer": "ipython3",
   "version": "3.6.5"
  }
 },
 "nbformat": 4,
 "nbformat_minor": 2
}
